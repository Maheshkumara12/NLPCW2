{
  "nbformat": 4,
  "nbformat_minor": 0,
  "metadata": {
    "colab": {
      "provenance": [],
      "gpuType": "T4"
    },
    "kernelspec": {
      "name": "python3",
      "display_name": "Python 3"
    },
    "language_info": {
      "name": "python"
    },
    "accelerator": "GPU"
  },
  "cells": [
    {
      "cell_type": "code",
      "source": [
        "import pandas as pd\n",
        "import numpy as np\n",
        "import matplotlib.pyplot as plt\n",
        "import seaborn as sns\n",
        "from sklearn.model_selection import train_test_split\n",
        "from sklearn.metrics import classification_report, confusion_matrix, accuracy_score, roc_auc_score\n",
        "import tensorflow as tf\n",
        "from tensorflow.keras.preprocessing.text import Tokenizer\n",
        "from tensorflow.keras.preprocessing.sequence import pad_sequences\n",
        "from tensorflow.keras.models import Model\n",
        "from tensorflow.keras.layers import Input, Embedding, LSTM, Dense, Dropout, Bidirectional, GlobalMaxPool1D\n",
        "from tensorflow.keras.callbacks import EarlyStopping, ModelCheckpoint\n",
        "from tensorflow.keras.regularizers import l2\n",
        "import re\n",
        "import string\n",
        "from nltk.tokenize import word_tokenize\n",
        "from nltk.corpus import stopwords\n",
        "from nltk.stem import SnowballStemmer\n",
        "import nltk\n",
        "\n",
        "nltk.download('punkt')\n",
        "nltk.download('stopwords')"
      ],
      "metadata": {
        "colab": {
          "base_uri": "https://localhost:8080/"
        },
        "id": "OxdkOYYktDYY",
        "outputId": "8a8fcb7f-a6a4-48b6-a6ce-2394a1c326ea"
      },
      "execution_count": null,
      "outputs": [
        {
          "output_type": "stream",
          "name": "stderr",
          "text": [
            "[nltk_data] Downloading package punkt to /root/nltk_data...\n",
            "[nltk_data]   Unzipping tokenizers/punkt.zip.\n",
            "[nltk_data] Downloading package stopwords to /root/nltk_data...\n",
            "[nltk_data]   Unzipping corpora/stopwords.zip.\n"
          ]
        },
        {
          "output_type": "execute_result",
          "data": {
            "text/plain": [
              "True"
            ]
          },
          "metadata": {},
          "execution_count": 1
        }
      ]
    },
    {
      "cell_type": "code",
      "source": [
        "df = pd.read_csv('/content/train_en.tsv', sep='\\t')"
      ],
      "metadata": {
        "id": "XZHac5cStDaW"
      },
      "execution_count": null,
      "outputs": []
    },
    {
      "cell_type": "code",
      "source": [
        "df.head()"
      ],
      "metadata": {
        "colab": {
          "base_uri": "https://localhost:8080/",
          "height": 206
        },
        "id": "6NBJ3y3huJfO",
        "outputId": "cfd93e33-bdc4-4c13-c65a-be24e9e1e759"
      },
      "execution_count": null,
      "outputs": [
        {
          "output_type": "execute_result",
          "data": {
            "text/plain": [
              "    id                                               text  HS  TR AG\n",
              "0  201  Hurray, saving us $$$ in so many ways @potus @...   1   0  0\n",
              "1  202  Why would young fighting age men be the vast m...   1   0  0\n",
              "2  203  @KamalaHarris Illegals Dump their Kids at the ...   1   0  0\n",
              "3  204  NY Times: 'Nearly All White' States Pose 'an A...   0   0  0\n",
              "4  205  Orban in Brussels: European leaders are ignori...   0   0  0"
            ],
            "text/html": [
              "\n",
              "  <div id=\"df-b03ddde8-23f6-4a79-90ce-194460427712\" class=\"colab-df-container\">\n",
              "    <div>\n",
              "<style scoped>\n",
              "    .dataframe tbody tr th:only-of-type {\n",
              "        vertical-align: middle;\n",
              "    }\n",
              "\n",
              "    .dataframe tbody tr th {\n",
              "        vertical-align: top;\n",
              "    }\n",
              "\n",
              "    .dataframe thead th {\n",
              "        text-align: right;\n",
              "    }\n",
              "</style>\n",
              "<table border=\"1\" class=\"dataframe\">\n",
              "  <thead>\n",
              "    <tr style=\"text-align: right;\">\n",
              "      <th></th>\n",
              "      <th>id</th>\n",
              "      <th>text</th>\n",
              "      <th>HS</th>\n",
              "      <th>TR</th>\n",
              "      <th>AG</th>\n",
              "    </tr>\n",
              "  </thead>\n",
              "  <tbody>\n",
              "    <tr>\n",
              "      <th>0</th>\n",
              "      <td>201</td>\n",
              "      <td>Hurray, saving us $$$ in so many ways @potus @...</td>\n",
              "      <td>1</td>\n",
              "      <td>0</td>\n",
              "      <td>0</td>\n",
              "    </tr>\n",
              "    <tr>\n",
              "      <th>1</th>\n",
              "      <td>202</td>\n",
              "      <td>Why would young fighting age men be the vast m...</td>\n",
              "      <td>1</td>\n",
              "      <td>0</td>\n",
              "      <td>0</td>\n",
              "    </tr>\n",
              "    <tr>\n",
              "      <th>2</th>\n",
              "      <td>203</td>\n",
              "      <td>@KamalaHarris Illegals Dump their Kids at the ...</td>\n",
              "      <td>1</td>\n",
              "      <td>0</td>\n",
              "      <td>0</td>\n",
              "    </tr>\n",
              "    <tr>\n",
              "      <th>3</th>\n",
              "      <td>204</td>\n",
              "      <td>NY Times: 'Nearly All White' States Pose 'an A...</td>\n",
              "      <td>0</td>\n",
              "      <td>0</td>\n",
              "      <td>0</td>\n",
              "    </tr>\n",
              "    <tr>\n",
              "      <th>4</th>\n",
              "      <td>205</td>\n",
              "      <td>Orban in Brussels: European leaders are ignori...</td>\n",
              "      <td>0</td>\n",
              "      <td>0</td>\n",
              "      <td>0</td>\n",
              "    </tr>\n",
              "  </tbody>\n",
              "</table>\n",
              "</div>\n",
              "    <div class=\"colab-df-buttons\">\n",
              "\n",
              "  <div class=\"colab-df-container\">\n",
              "    <button class=\"colab-df-convert\" onclick=\"convertToInteractive('df-b03ddde8-23f6-4a79-90ce-194460427712')\"\n",
              "            title=\"Convert this dataframe to an interactive table.\"\n",
              "            style=\"display:none;\">\n",
              "\n",
              "  <svg xmlns=\"http://www.w3.org/2000/svg\" height=\"24px\" viewBox=\"0 -960 960 960\">\n",
              "    <path d=\"M120-120v-720h720v720H120Zm60-500h600v-160H180v160Zm220 220h160v-160H400v160Zm0 220h160v-160H400v160ZM180-400h160v-160H180v160Zm440 0h160v-160H620v160ZM180-180h160v-160H180v160Zm440 0h160v-160H620v160Z\"/>\n",
              "  </svg>\n",
              "    </button>\n",
              "\n",
              "  <style>\n",
              "    .colab-df-container {\n",
              "      display:flex;\n",
              "      gap: 12px;\n",
              "    }\n",
              "\n",
              "    .colab-df-convert {\n",
              "      background-color: #E8F0FE;\n",
              "      border: none;\n",
              "      border-radius: 50%;\n",
              "      cursor: pointer;\n",
              "      display: none;\n",
              "      fill: #1967D2;\n",
              "      height: 32px;\n",
              "      padding: 0 0 0 0;\n",
              "      width: 32px;\n",
              "    }\n",
              "\n",
              "    .colab-df-convert:hover {\n",
              "      background-color: #E2EBFA;\n",
              "      box-shadow: 0px 1px 2px rgba(60, 64, 67, 0.3), 0px 1px 3px 1px rgba(60, 64, 67, 0.15);\n",
              "      fill: #174EA6;\n",
              "    }\n",
              "\n",
              "    .colab-df-buttons div {\n",
              "      margin-bottom: 4px;\n",
              "    }\n",
              "\n",
              "    [theme=dark] .colab-df-convert {\n",
              "      background-color: #3B4455;\n",
              "      fill: #D2E3FC;\n",
              "    }\n",
              "\n",
              "    [theme=dark] .colab-df-convert:hover {\n",
              "      background-color: #434B5C;\n",
              "      box-shadow: 0px 1px 3px 1px rgba(0, 0, 0, 0.15);\n",
              "      filter: drop-shadow(0px 1px 2px rgba(0, 0, 0, 0.3));\n",
              "      fill: #FFFFFF;\n",
              "    }\n",
              "  </style>\n",
              "\n",
              "    <script>\n",
              "      const buttonEl =\n",
              "        document.querySelector('#df-b03ddde8-23f6-4a79-90ce-194460427712 button.colab-df-convert');\n",
              "      buttonEl.style.display =\n",
              "        google.colab.kernel.accessAllowed ? 'block' : 'none';\n",
              "\n",
              "      async function convertToInteractive(key) {\n",
              "        const element = document.querySelector('#df-b03ddde8-23f6-4a79-90ce-194460427712');\n",
              "        const dataTable =\n",
              "          await google.colab.kernel.invokeFunction('convertToInteractive',\n",
              "                                                    [key], {});\n",
              "        if (!dataTable) return;\n",
              "\n",
              "        const docLinkHtml = 'Like what you see? Visit the ' +\n",
              "          '<a target=\"_blank\" href=https://colab.research.google.com/notebooks/data_table.ipynb>data table notebook</a>'\n",
              "          + ' to learn more about interactive tables.';\n",
              "        element.innerHTML = '';\n",
              "        dataTable['output_type'] = 'display_data';\n",
              "        await google.colab.output.renderOutput(dataTable, element);\n",
              "        const docLink = document.createElement('div');\n",
              "        docLink.innerHTML = docLinkHtml;\n",
              "        element.appendChild(docLink);\n",
              "      }\n",
              "    </script>\n",
              "  </div>\n",
              "\n",
              "\n",
              "<div id=\"df-db5a1703-4563-4616-88d5-5ef1b6f1c008\">\n",
              "  <button class=\"colab-df-quickchart\" onclick=\"quickchart('df-db5a1703-4563-4616-88d5-5ef1b6f1c008')\"\n",
              "            title=\"Suggest charts\"\n",
              "            style=\"display:none;\">\n",
              "\n",
              "<svg xmlns=\"http://www.w3.org/2000/svg\" height=\"24px\"viewBox=\"0 0 24 24\"\n",
              "     width=\"24px\">\n",
              "    <g>\n",
              "        <path d=\"M19 3H5c-1.1 0-2 .9-2 2v14c0 1.1.9 2 2 2h14c1.1 0 2-.9 2-2V5c0-1.1-.9-2-2-2zM9 17H7v-7h2v7zm4 0h-2V7h2v10zm4 0h-2v-4h2v4z\"/>\n",
              "    </g>\n",
              "</svg>\n",
              "  </button>\n",
              "\n",
              "<style>\n",
              "  .colab-df-quickchart {\n",
              "      --bg-color: #E8F0FE;\n",
              "      --fill-color: #1967D2;\n",
              "      --hover-bg-color: #E2EBFA;\n",
              "      --hover-fill-color: #174EA6;\n",
              "      --disabled-fill-color: #AAA;\n",
              "      --disabled-bg-color: #DDD;\n",
              "  }\n",
              "\n",
              "  [theme=dark] .colab-df-quickchart {\n",
              "      --bg-color: #3B4455;\n",
              "      --fill-color: #D2E3FC;\n",
              "      --hover-bg-color: #434B5C;\n",
              "      --hover-fill-color: #FFFFFF;\n",
              "      --disabled-bg-color: #3B4455;\n",
              "      --disabled-fill-color: #666;\n",
              "  }\n",
              "\n",
              "  .colab-df-quickchart {\n",
              "    background-color: var(--bg-color);\n",
              "    border: none;\n",
              "    border-radius: 50%;\n",
              "    cursor: pointer;\n",
              "    display: none;\n",
              "    fill: var(--fill-color);\n",
              "    height: 32px;\n",
              "    padding: 0;\n",
              "    width: 32px;\n",
              "  }\n",
              "\n",
              "  .colab-df-quickchart:hover {\n",
              "    background-color: var(--hover-bg-color);\n",
              "    box-shadow: 0 1px 2px rgba(60, 64, 67, 0.3), 0 1px 3px 1px rgba(60, 64, 67, 0.15);\n",
              "    fill: var(--button-hover-fill-color);\n",
              "  }\n",
              "\n",
              "  .colab-df-quickchart-complete:disabled,\n",
              "  .colab-df-quickchart-complete:disabled:hover {\n",
              "    background-color: var(--disabled-bg-color);\n",
              "    fill: var(--disabled-fill-color);\n",
              "    box-shadow: none;\n",
              "  }\n",
              "\n",
              "  .colab-df-spinner {\n",
              "    border: 2px solid var(--fill-color);\n",
              "    border-color: transparent;\n",
              "    border-bottom-color: var(--fill-color);\n",
              "    animation:\n",
              "      spin 1s steps(1) infinite;\n",
              "  }\n",
              "\n",
              "  @keyframes spin {\n",
              "    0% {\n",
              "      border-color: transparent;\n",
              "      border-bottom-color: var(--fill-color);\n",
              "      border-left-color: var(--fill-color);\n",
              "    }\n",
              "    20% {\n",
              "      border-color: transparent;\n",
              "      border-left-color: var(--fill-color);\n",
              "      border-top-color: var(--fill-color);\n",
              "    }\n",
              "    30% {\n",
              "      border-color: transparent;\n",
              "      border-left-color: var(--fill-color);\n",
              "      border-top-color: var(--fill-color);\n",
              "      border-right-color: var(--fill-color);\n",
              "    }\n",
              "    40% {\n",
              "      border-color: transparent;\n",
              "      border-right-color: var(--fill-color);\n",
              "      border-top-color: var(--fill-color);\n",
              "    }\n",
              "    60% {\n",
              "      border-color: transparent;\n",
              "      border-right-color: var(--fill-color);\n",
              "    }\n",
              "    80% {\n",
              "      border-color: transparent;\n",
              "      border-right-color: var(--fill-color);\n",
              "      border-bottom-color: var(--fill-color);\n",
              "    }\n",
              "    90% {\n",
              "      border-color: transparent;\n",
              "      border-bottom-color: var(--fill-color);\n",
              "    }\n",
              "  }\n",
              "</style>\n",
              "\n",
              "  <script>\n",
              "    async function quickchart(key) {\n",
              "      const quickchartButtonEl =\n",
              "        document.querySelector('#' + key + ' button');\n",
              "      quickchartButtonEl.disabled = true;  // To prevent multiple clicks.\n",
              "      quickchartButtonEl.classList.add('colab-df-spinner');\n",
              "      try {\n",
              "        const charts = await google.colab.kernel.invokeFunction(\n",
              "            'suggestCharts', [key], {});\n",
              "      } catch (error) {\n",
              "        console.error('Error during call to suggestCharts:', error);\n",
              "      }\n",
              "      quickchartButtonEl.classList.remove('colab-df-spinner');\n",
              "      quickchartButtonEl.classList.add('colab-df-quickchart-complete');\n",
              "    }\n",
              "    (() => {\n",
              "      let quickchartButtonEl =\n",
              "        document.querySelector('#df-db5a1703-4563-4616-88d5-5ef1b6f1c008 button');\n",
              "      quickchartButtonEl.style.display =\n",
              "        google.colab.kernel.accessAllowed ? 'block' : 'none';\n",
              "    })();\n",
              "  </script>\n",
              "</div>\n",
              "\n",
              "    </div>\n",
              "  </div>\n"
            ],
            "application/vnd.google.colaboratory.intrinsic+json": {
              "type": "dataframe",
              "variable_name": "df",
              "summary": "{\n  \"name\": \"df\",\n  \"rows\": 9000,\n  \"fields\": [\n    {\n      \"column\": \"id\",\n      \"properties\": {\n        \"dtype\": \"number\",\n        \"std\": 2598,\n        \"min\": 201,\n        \"max\": 9200,\n        \"num_unique_values\": 9000,\n        \"samples\": [\n          8141,\n          1363,\n          783\n        ],\n        \"semantic_type\": \"\",\n        \"description\": \"\"\n      }\n    },\n    {\n      \"column\": \"text\",\n      \"properties\": {\n        \"dtype\": \"string\",\n        \"num_unique_values\": 9000,\n        \"samples\": [\n          \"At Target in the movie section, and this guy is educating his girlfriend about Star Wars. Her facial expressions are hysterical.\",\n          \"Italy allows two migrant rescue ships to dock after other European countries offer to take them \\u00c2\\u2026 https://t.co/Vo3YE9XoxK\",\n          \"@FoxNews @foxandfriends @restore_US_nowJust Imagine THE SIZEof THAT RED WAVE !!GOD BLESS TRUMP!Build That Wall#BuildThatWall Plz share..\"\n        ],\n        \"semantic_type\": \"\",\n        \"description\": \"\"\n      }\n    },\n    {\n      \"column\": \"HS\",\n      \"properties\": {\n        \"dtype\": \"number\",\n        \"std\": 0,\n        \"min\": 0,\n        \"max\": 1,\n        \"num_unique_values\": 2,\n        \"samples\": [\n          0,\n          1\n        ],\n        \"semantic_type\": \"\",\n        \"description\": \"\"\n      }\n    },\n    {\n      \"column\": \"TR\",\n      \"properties\": {\n        \"dtype\": \"number\",\n        \"std\": 0,\n        \"min\": 0,\n        \"max\": 1,\n        \"num_unique_values\": 2,\n        \"samples\": [\n          1,\n          0\n        ],\n        \"semantic_type\": \"\",\n        \"description\": \"\"\n      }\n    },\n    {\n      \"column\": \"AG\",\n      \"properties\": {\n        \"dtype\": \"category\",\n        \"num_unique_values\": 3,\n        \"samples\": [\n          \"0\",\n          \"1\"\n        ],\n        \"semantic_type\": \"\",\n        \"description\": \"\"\n      }\n    }\n  ]\n}"
            }
          },
          "metadata": {},
          "execution_count": 4
        }
      ]
    },
    {
      "cell_type": "code",
      "source": [
        "df.isnull().sum()"
      ],
      "metadata": {
        "colab": {
          "base_uri": "https://localhost:8080/",
          "height": 241
        },
        "id": "4oAszLr7uMli",
        "outputId": "5697b5c8-1763-418c-88c4-bbc369565b08"
      },
      "execution_count": null,
      "outputs": [
        {
          "output_type": "execute_result",
          "data": {
            "text/plain": [
              "id      0\n",
              "text    0\n",
              "HS      0\n",
              "TR      0\n",
              "AG      0\n",
              "dtype: int64"
            ],
            "text/html": [
              "<div>\n",
              "<style scoped>\n",
              "    .dataframe tbody tr th:only-of-type {\n",
              "        vertical-align: middle;\n",
              "    }\n",
              "\n",
              "    .dataframe tbody tr th {\n",
              "        vertical-align: top;\n",
              "    }\n",
              "\n",
              "    .dataframe thead th {\n",
              "        text-align: right;\n",
              "    }\n",
              "</style>\n",
              "<table border=\"1\" class=\"dataframe\">\n",
              "  <thead>\n",
              "    <tr style=\"text-align: right;\">\n",
              "      <th></th>\n",
              "      <th>0</th>\n",
              "    </tr>\n",
              "  </thead>\n",
              "  <tbody>\n",
              "    <tr>\n",
              "      <th>id</th>\n",
              "      <td>0</td>\n",
              "    </tr>\n",
              "    <tr>\n",
              "      <th>text</th>\n",
              "      <td>0</td>\n",
              "    </tr>\n",
              "    <tr>\n",
              "      <th>HS</th>\n",
              "      <td>0</td>\n",
              "    </tr>\n",
              "    <tr>\n",
              "      <th>TR</th>\n",
              "      <td>0</td>\n",
              "    </tr>\n",
              "    <tr>\n",
              "      <th>AG</th>\n",
              "      <td>0</td>\n",
              "    </tr>\n",
              "  </tbody>\n",
              "</table>\n",
              "</div><br><label><b>dtype:</b> int64</label>"
            ]
          },
          "metadata": {},
          "execution_count": 5
        }
      ]
    },
    {
      "cell_type": "code",
      "source": [
        "import seaborn as sns\n",
        "sns.set_style('white')\n",
        "sns.barplot(x=df['HS'].value_counts() ,y=['Not Hate Speech','Hate Speech'] ,palette='coolwarm')\n",
        "plt.show()"
      ],
      "metadata": {
        "colab": {
          "base_uri": "https://localhost:8080/",
          "height": 558
        },
        "id": "ftMPwMUZubpd",
        "outputId": "ac1b623b-b202-4eb7-b76f-8e154883db48"
      },
      "execution_count": null,
      "outputs": [
        {
          "output_type": "stream",
          "name": "stderr",
          "text": [
            "<ipython-input-6-bf1c3a302453>:3: FutureWarning: \n",
            "\n",
            "Passing `palette` without assigning `hue` is deprecated and will be removed in v0.14.0. Assign the `y` variable to `hue` and set `legend=False` for the same effect.\n",
            "\n",
            "  sns.barplot(x=df['HS'].value_counts() ,y=['Not Hate Speech','Hate Speech'] ,palette='coolwarm')\n"
          ]
        },
        {
          "output_type": "display_data",
          "data": {
            "text/plain": [
              "<Figure size 640x480 with 1 Axes>"
            ],
            "image/png": "[encoded data removed]"
          },
          "metadata": {}
        }
      ]
    },
    {
      "cell_type": "code",
      "source": [
        "df['TR'].value_counts()"
      ],
      "metadata": {
        "colab": {
          "base_uri": "https://localhost:8080/",
          "height": 178
        },
        "id": "J0_WWnv5ubsz",
        "outputId": "948e9ef5-c1f2-4244-dffe-cae1a5af65f1"
      },
      "execution_count": null,
      "outputs": [
        {
          "output_type": "execute_result",
          "data": {
            "text/plain": [
              "TR\n",
              "0    7659\n",
              "1    1341\n",
              "Name: count, dtype: int64"
            ],
            "text/html": [
              "<div>\n",
              "<style scoped>\n",
              "    .dataframe tbody tr th:only-of-type {\n",
              "        vertical-align: middle;\n",
              "    }\n",
              "\n",
              "    .dataframe tbody tr th {\n",
              "        vertical-align: top;\n",
              "    }\n",
              "\n",
              "    .dataframe thead th {\n",
              "        text-align: right;\n",
              "    }\n",
              "</style>\n",
              "<table border=\"1\" class=\"dataframe\">\n",
              "  <thead>\n",
              "    <tr style=\"text-align: right;\">\n",
              "      <th></th>\n",
              "      <th>count</th>\n",
              "    </tr>\n",
              "    <tr>\n",
              "      <th>TR</th>\n",
              "      <th></th>\n",
              "    </tr>\n",
              "  </thead>\n",
              "  <tbody>\n",
              "    <tr>\n",
              "      <th>0</th>\n",
              "      <td>7659</td>\n",
              "    </tr>\n",
              "    <tr>\n",
              "      <th>1</th>\n",
              "      <td>1341</td>\n",
              "    </tr>\n",
              "  </tbody>\n",
              "</table>\n",
              "</div><br><label><b>dtype:</b> int64</label>"
            ]
          },
          "metadata": {},
          "execution_count": 7
        }
      ]
    },
    {
      "cell_type": "code",
      "source": [
        "df['AG'].value_counts()"
      ],
      "metadata": {
        "colab": {
          "base_uri": "https://localhost:8080/",
          "height": 209
        },
        "id": "Anm9wLjDu2wt",
        "outputId": "5d26d99a-0c99-4fed-f130-29a336ae42ce"
      },
      "execution_count": null,
      "outputs": [
        {
          "output_type": "execute_result",
          "data": {
            "text/plain": [
              "AG\n",
              "0            7440\n",
              "1            1559\n",
              "discredit       1\n",
              "Name: count, dtype: int64"
            ],
            "text/html": [
              "<div>\n",
              "<style scoped>\n",
              "    .dataframe tbody tr th:only-of-type {\n",
              "        vertical-align: middle;\n",
              "    }\n",
              "\n",
              "    .dataframe tbody tr th {\n",
              "        vertical-align: top;\n",
              "    }\n",
              "\n",
              "    .dataframe thead th {\n",
              "        text-align: right;\n",
              "    }\n",
              "</style>\n",
              "<table border=\"1\" class=\"dataframe\">\n",
              "  <thead>\n",
              "    <tr style=\"text-align: right;\">\n",
              "      <th></th>\n",
              "      <th>count</th>\n",
              "    </tr>\n",
              "    <tr>\n",
              "      <th>AG</th>\n",
              "      <th></th>\n",
              "    </tr>\n",
              "  </thead>\n",
              "  <tbody>\n",
              "    <tr>\n",
              "      <th>0</th>\n",
              "      <td>7440</td>\n",
              "    </tr>\n",
              "    <tr>\n",
              "      <th>1</th>\n",
              "      <td>1559</td>\n",
              "    </tr>\n",
              "    <tr>\n",
              "      <th>discredit</th>\n",
              "      <td>1</td>\n",
              "    </tr>\n",
              "  </tbody>\n",
              "</table>\n",
              "</div><br><label><b>dtype:</b> int64</label>"
            ]
          },
          "metadata": {},
          "execution_count": 8
        }
      ]
    },
    {
      "cell_type": "code",
      "source": [],
      "metadata": {
        "id": "OZVaFEkBvv7X"
      },
      "execution_count": null,
      "outputs": []
    },
    {
      "cell_type": "code",
      "source": [
        "def preprocess(text):\n",
        "\n",
        "    text = text.lower()\n",
        "\n",
        "    translate_ = str.maketrans('', '', string.punctuation)\n",
        "    text = text.translate(translate_)\n",
        "\n",
        "\n",
        "    text = re.sub(r'^https?:\\/\\/.*[\\r\\n]*', '', text, flags=re.MULTILINE)\n",
        "    words = word_tokenize(text)\n",
        "\n",
        "    stop_words = set(stopwords.words('english','spanish'))\n",
        "    words = [word for word in words if word not in stop_words]\n",
        "    exclude =string.punctuation\n",
        "    words = [word for word in words if word not in exclude]\n",
        "\n",
        "\n",
        "    lemmatizer = WordNetLemmatizer()\n",
        "    l=[]\n",
        "    for word in words:\n",
        "        l.append(lemmatizer.lemmatize(word))\n",
        "    text = ' '.join(l)\n",
        "    return text\n",
        "\n"
      ],
      "metadata": {
        "id": "PqLw49GQu_7R"
      },
      "execution_count": null,
      "outputs": []
    },
    {
      "cell_type": "code",
      "source": [
        "df['text']"
      ],
      "metadata": {
        "colab": {
          "base_uri": "https://localhost:8080/",
          "height": 458
        },
        "id": "JmLh9VKgu8Dm",
        "outputId": "be7fc177-4c38-4f09-b485-94d79aab4cdb"
      },
      "execution_count": null,
      "outputs": [
        {
          "output_type": "execute_result",
          "data": {
            "text/plain": [
              "0       Hurray, saving us $$$ in so many ways @potus @...\n",
              "1       Why would young fighting age men be the vast m...\n",
              "2       @KamalaHarris Illegals Dump their Kids at the ...\n",
              "3       NY Times: 'Nearly All White' States Pose 'an A...\n",
              "4       Orban in Brussels: European leaders are ignori...\n",
              "                              ...                        \n",
              "8995    @mmdwriter @JRubinBlogger @BenSasse I am proud...\n",
              "8996    @CheriJacobus Hollywood is complicit in the ra...\n",
              "8997    @amaziah_filani What a fucking cunt I hate see...\n",
              "8998                    Hysterical woman like @CoryBooker\n",
              "8999    Nearly every woman I know has #meToo in their ...\n",
              "Name: text, Length: 9000, dtype: object"
            ],
            "text/html": [
              "<div>\n",
              "<style scoped>\n",
              "    .dataframe tbody tr th:only-of-type {\n",
              "        vertical-align: middle;\n",
              "    }\n",
              "\n",
              "    .dataframe tbody tr th {\n",
              "        vertical-align: top;\n",
              "    }\n",
              "\n",
              "    .dataframe thead th {\n",
              "        text-align: right;\n",
              "    }\n",
              "</style>\n",
              "<table border=\"1\" class=\"dataframe\">\n",
              "  <thead>\n",
              "    <tr style=\"text-align: right;\">\n",
              "      <th></th>\n",
              "      <th>text</th>\n",
              "    </tr>\n",
              "  </thead>\n",
              "  <tbody>\n",
              "    <tr>\n",
              "      <th>0</th>\n",
              "      <td>Hurray, saving us $$$ in so many ways @potus @...</td>\n",
              "    </tr>\n",
              "    <tr>\n",
              "      <th>1</th>\n",
              "      <td>Why would young fighting age men be the vast m...</td>\n",
              "    </tr>\n",
              "    <tr>\n",
              "      <th>2</th>\n",
              "      <td>@KamalaHarris Illegals Dump their Kids at the ...</td>\n",
              "    </tr>\n",
              "    <tr>\n",
              "      <th>3</th>\n",
              "      <td>NY Times: 'Nearly All White' States Pose 'an A...</td>\n",
              "    </tr>\n",
              "    <tr>\n",
              "      <th>4</th>\n",
              "      <td>Orban in Brussels: European leaders are ignori...</td>\n",
              "    </tr>\n",
              "    <tr>\n",
              "      <th>...</th>\n",
              "      <td>...</td>\n",
              "    </tr>\n",
              "    <tr>\n",
              "      <th>8995</th>\n",
              "      <td>@mmdwriter @JRubinBlogger @BenSasse I am proud...</td>\n",
              "    </tr>\n",
              "    <tr>\n",
              "      <th>8996</th>\n",
              "      <td>@CheriJacobus Hollywood is complicit in the ra...</td>\n",
              "    </tr>\n",
              "    <tr>\n",
              "      <th>8997</th>\n",
              "      <td>@amaziah_filani What a fucking cunt I hate see...</td>\n",
              "    </tr>\n",
              "    <tr>\n",
              "      <th>8998</th>\n",
              "      <td>Hysterical woman like @CoryBooker</td>\n",
              "    </tr>\n",
              "    <tr>\n",
              "      <th>8999</th>\n",
              "      <td>Nearly every woman I know has #meToo in their ...</td>\n",
              "    </tr>\n",
              "  </tbody>\n",
              "</table>\n",
              "<p>9000 rows × 1 columns</p>\n",
              "</div><br><label><b>dtype:</b> object</label>"
            ]
          },
          "metadata": {},
          "execution_count": 10
        }
      ]
    },
    {
      "cell_type": "code",
      "source": [
        "import nltk\n",
        "nltk.download('punkt_tab')"
      ],
      "metadata": {
        "colab": {
          "base_uri": "https://localhost:8080/"
        },
        "id": "J-NjZ3H0v-es",
        "outputId": "8d5c34f6-b560-4a70-fb49-2819a9452446"
      },
      "execution_count": null,
      "outputs": [
        {
          "output_type": "stream",
          "name": "stderr",
          "text": [
            "[nltk_data] Downloading package punkt_tab to /root/nltk_data...\n",
            "[nltk_data]   Unzipping tokenizers/punkt_tab.zip.\n"
          ]
        },
        {
          "output_type": "execute_result",
          "data": {
            "text/plain": [
              "True"
            ]
          },
          "metadata": {},
          "execution_count": 11
        }
      ]
    },
    {
      "cell_type": "code",
      "source": [
        "from nltk.stem import WordNetLemmatizer"
      ],
      "metadata": {
        "id": "4gF43DrMwRqT"
      },
      "execution_count": null,
      "outputs": []
    },
    {
      "cell_type": "code",
      "source": [
        "nltk.download('wordnet')"
      ],
      "metadata": {
        "colab": {
          "base_uri": "https://localhost:8080/"
        },
        "id": "A74MSE9Gwunl",
        "outputId": "31163dc9-87d6-4a5b-ec00-73913d60ddc6"
      },
      "execution_count": null,
      "outputs": [
        {
          "output_type": "stream",
          "name": "stderr",
          "text": [
            "[nltk_data] Downloading package wordnet to /root/nltk_data...\n"
          ]
        },
        {
          "output_type": "execute_result",
          "data": {
            "text/plain": [
              "True"
            ]
          },
          "metadata": {},
          "execution_count": 13
        }
      ]
    },
    {
      "cell_type": "code",
      "source": [
        "# Apply preprocessing\n",
        "df['processed_text'] = df['text'].apply(preprocess)"
      ],
      "metadata": {
        "id": "r62yDRPnuB4G"
      },
      "execution_count": null,
      "outputs": []
    },
    {
      "cell_type": "code",
      "source": [
        "df['processed_text']"
      ],
      "metadata": {
        "colab": {
          "base_uri": "https://localhost:8080/",
          "height": 458
        },
        "id": "zckSSYDYwyfl",
        "outputId": "66b0ee4f-4719-45ab-ea53-2e67e23b27e8"
      },
      "execution_count": null,
      "outputs": [
        {
          "output_type": "execute_result",
          "data": {
            "text/plain": [
              "0       hurray saving u many way potus realdonaldtrump...\n",
              "1       would young fighting age men vast majority one...\n",
              "2       kamalaharris illegals dump kid border like roa...\n",
              "3       ny time nearly white state pose array problem ...\n",
              "4       orban brussels european leader ignoring people...\n",
              "                              ...                        \n",
              "8995    mmdwriter jrubinblogger bensasse proud hysteri...\n",
              "8996    cherijacobus hollywood complicit rape sexual a...\n",
              "8997    amaziahfilani fucking cunt hate seeing kid get...\n",
              "8998                     hysterical woman like corybooker\n",
              "8999    nearly every woman know metoo feed sexual harr...\n",
              "Name: processed_text, Length: 9000, dtype: object"
            ],
            "text/html": [
              "<div>\n",
              "<style scoped>\n",
              "    .dataframe tbody tr th:only-of-type {\n",
              "        vertical-align: middle;\n",
              "    }\n",
              "\n",
              "    .dataframe tbody tr th {\n",
              "        vertical-align: top;\n",
              "    }\n",
              "\n",
              "    .dataframe thead th {\n",
              "        text-align: right;\n",
              "    }\n",
              "</style>\n",
              "<table border=\"1\" class=\"dataframe\">\n",
              "  <thead>\n",
              "    <tr style=\"text-align: right;\">\n",
              "      <th></th>\n",
              "      <th>processed_text</th>\n",
              "    </tr>\n",
              "  </thead>\n",
              "  <tbody>\n",
              "    <tr>\n",
              "      <th>0</th>\n",
              "      <td>hurray saving u many way potus realdonaldtrump...</td>\n",
              "    </tr>\n",
              "    <tr>\n",
              "      <th>1</th>\n",
              "      <td>would young fighting age men vast majority one...</td>\n",
              "    </tr>\n",
              "    <tr>\n",
              "      <th>2</th>\n",
              "      <td>kamalaharris illegals dump kid border like roa...</td>\n",
              "    </tr>\n",
              "    <tr>\n",
              "      <th>3</th>\n",
              "      <td>ny time nearly white state pose array problem ...</td>\n",
              "    </tr>\n",
              "    <tr>\n",
              "      <th>4</th>\n",
              "      <td>orban brussels european leader ignoring people...</td>\n",
              "    </tr>\n",
              "    <tr>\n",
              "      <th>...</th>\n",
              "      <td>...</td>\n",
              "    </tr>\n",
              "    <tr>\n",
              "      <th>8995</th>\n",
              "      <td>mmdwriter jrubinblogger bensasse proud hysteri...</td>\n",
              "    </tr>\n",
              "    <tr>\n",
              "      <th>8996</th>\n",
              "      <td>cherijacobus hollywood complicit rape sexual a...</td>\n",
              "    </tr>\n",
              "    <tr>\n",
              "      <th>8997</th>\n",
              "      <td>amaziahfilani fucking cunt hate seeing kid get...</td>\n",
              "    </tr>\n",
              "    <tr>\n",
              "      <th>8998</th>\n",
              "      <td>hysterical woman like corybooker</td>\n",
              "    </tr>\n",
              "    <tr>\n",
              "      <th>8999</th>\n",
              "      <td>nearly every woman know metoo feed sexual harr...</td>\n",
              "    </tr>\n",
              "  </tbody>\n",
              "</table>\n",
              "<p>9000 rows × 1 columns</p>\n",
              "</div><br><label><b>dtype:</b> object</label>"
            ]
          },
          "metadata": {},
          "execution_count": 15
        }
      ]
    },
    {
      "cell_type": "code",
      "source": [
        "df.columns"
      ],
      "metadata": {
        "colab": {
          "base_uri": "https://localhost:8080/"
        },
        "id": "JIELBKcVy0u9",
        "outputId": "fa3718eb-0ea5-4f38-f751-ca4776d0e8a9"
      },
      "execution_count": null,
      "outputs": [
        {
          "output_type": "execute_result",
          "data": {
            "text/plain": [
              "Index(['id', 'text', 'HS', 'TR', 'AG', 'processed_text'], dtype='object')"
            ]
          },
          "metadata": {},
          "execution_count": 16
        }
      ]
    },
    {
      "cell_type": "code",
      "source": [
        "df.head()"
      ],
      "metadata": {
        "colab": {
          "base_uri": "https://localhost:8080/",
          "height": 206
        },
        "id": "dXydZj2Nw7YF",
        "outputId": "ea99aa21-7bb3-4023-98e4-e94330a172c3"
      },
      "execution_count": null,
      "outputs": [
        {
          "output_type": "execute_result",
          "data": {
            "text/plain": [
              "    id                                               text  HS  TR AG  \\\n",
              "0  201  Hurray, saving us $$$ in so many ways @potus @...   1   0  0   \n",
              "1  202  Why would young fighting age men be the vast m...   1   0  0   \n",
              "2  203  @KamalaHarris Illegals Dump their Kids at the ...   1   0  0   \n",
              "3  204  NY Times: 'Nearly All White' States Pose 'an A...   0   0  0   \n",
              "4  205  Orban in Brussels: European leaders are ignori...   0   0  0   \n",
              "\n",
              "                                      processed_text  \n",
              "0  hurray saving u many way potus realdonaldtrump...  \n",
              "1  would young fighting age men vast majority one...  \n",
              "2  kamalaharris illegals dump kid border like roa...  \n",
              "3  ny time nearly white state pose array problem ...  \n",
              "4  orban brussels european leader ignoring people...  "
            ],
            "text/html": [
              "\n",
              "  <div id=\"df-7b231b39-2808-4de5-b29a-501e7f01fdbe\" class=\"colab-df-container\">\n",
              "    <div>\n",
              "<style scoped>\n",
              "    .dataframe tbody tr th:only-of-type {\n",
              "        vertical-align: middle;\n",
              "    }\n",
              "\n",
              "    .dataframe tbody tr th {\n",
              "        vertical-align: top;\n",
              "    }\n",
              "\n",
              "    .dataframe thead th {\n",
              "        text-align: right;\n",
              "    }\n",
              "</style>\n",
              "<table border=\"1\" class=\"dataframe\">\n",
              "  <thead>\n",
              "    <tr style=\"text-align: right;\">\n",
              "      <th></th>\n",
              "      <th>id</th>\n",
              "      <th>text</th>\n",
              "      <th>HS</th>\n",
              "      <th>TR</th>\n",
              "      <th>AG</th>\n",
              "      <th>processed_text</th>\n",
              "    </tr>\n",
              "  </thead>\n",
              "  <tbody>\n",
              "    <tr>\n",
              "      <th>0</th>\n",
              "      <td>201</td>\n",
              "      <td>Hurray, saving us $$$ in so many ways @potus @...</td>\n",
              "      <td>1</td>\n",
              "      <td>0</td>\n",
              "      <td>0</td>\n",
              "      <td>hurray saving u many way potus realdonaldtrump...</td>\n",
              "    </tr>\n",
              "    <tr>\n",
              "      <th>1</th>\n",
              "      <td>202</td>\n",
              "      <td>Why would young fighting age men be the vast m...</td>\n",
              "      <td>1</td>\n",
              "      <td>0</td>\n",
              "      <td>0</td>\n",
              "      <td>would young fighting age men vast majority one...</td>\n",
              "    </tr>\n",
              "    <tr>\n",
              "      <th>2</th>\n",
              "      <td>203</td>\n",
              "      <td>@KamalaHarris Illegals Dump their Kids at the ...</td>\n",
              "      <td>1</td>\n",
              "      <td>0</td>\n",
              "      <td>0</td>\n",
              "      <td>kamalaharris illegals dump kid border like roa...</td>\n",
              "    </tr>\n",
              "    <tr>\n",
              "      <th>3</th>\n",
              "      <td>204</td>\n",
              "      <td>NY Times: 'Nearly All White' States Pose 'an A...</td>\n",
              "      <td>0</td>\n",
              "      <td>0</td>\n",
              "      <td>0</td>\n",
              "      <td>ny time nearly white state pose array problem ...</td>\n",
              "    </tr>\n",
              "    <tr>\n",
              "      <th>4</th>\n",
              "      <td>205</td>\n",
              "      <td>Orban in Brussels: European leaders are ignori...</td>\n",
              "      <td>0</td>\n",
              "      <td>0</td>\n",
              "      <td>0</td>\n",
              "      <td>orban brussels european leader ignoring people...</td>\n",
              "    </tr>\n",
              "  </tbody>\n",
              "</table>\n",
              "</div>\n",
              "    <div class=\"colab-df-buttons\">\n",
              "\n",
              "  <div class=\"colab-df-container\">\n",
              "    <button class=\"colab-df-convert\" onclick=\"convertToInteractive('df-7b231b39-2808-4de5-b29a-501e7f01fdbe')\"\n",
              "            title=\"Convert this dataframe to an interactive table.\"\n",
              "            style=\"display:none;\">\n",
              "\n",
              "  <svg xmlns=\"http://www.w3.org/2000/svg\" height=\"24px\" viewBox=\"0 -960 960 960\">\n",
              "    <path d=\"M120-120v-720h720v720H120Zm60-500h600v-160H180v160Zm220 220h160v-160H400v160Zm0 220h160v-160H400v160ZM180-400h160v-160H180v160Zm440 0h160v-160H620v160ZM180-180h160v-160H180v160Zm440 0h160v-160H620v160Z\"/>\n",
              "  </svg>\n",
              "    </button>\n",
              "\n",
              "  <style>\n",
              "    .colab-df-container {\n",
              "      display:flex;\n",
              "      gap: 12px;\n",
              "    }\n",
              "\n",
              "    .colab-df-convert {\n",
              "      background-color: #E8F0FE;\n",
              "      border: none;\n",
              "      border-radius: 50%;\n",
              "      cursor: pointer;\n",
              "      display: none;\n",
              "      fill: #1967D2;\n",
              "      height: 32px;\n",
              "      padding: 0 0 0 0;\n",
              "      width: 32px;\n",
              "    }\n",
              "\n",
              "    .colab-df-convert:hover {\n",
              "      background-color: #E2EBFA;\n",
              "      box-shadow: 0px 1px 2px rgba(60, 64, 67, 0.3), 0px 1px 3px 1px rgba(60, 64, 67, 0.15);\n",
              "      fill: #174EA6;\n",
              "    }\n",
              "\n",
              "    .colab-df-buttons div {\n",
              "      margin-bottom: 4px;\n",
              "    }\n",
              "\n",
              "    [theme=dark] .colab-df-convert {\n",
              "      background-color: #3B4455;\n",
              "      fill: #D2E3FC;\n",
              "    }\n",
              "\n",
              "    [theme=dark] .colab-df-convert:hover {\n",
              "      background-color: #434B5C;\n",
              "      box-shadow: 0px 1px 3px 1px rgba(0, 0, 0, 0.15);\n",
              "      filter: drop-shadow(0px 1px 2px rgba(0, 0, 0, 0.3));\n",
              "      fill: #FFFFFF;\n",
              "    }\n",
              "  </style>\n",
              "\n",
              "    <script>\n",
              "      const buttonEl =\n",
              "        document.querySelector('#df-7b231b39-2808-4de5-b29a-501e7f01fdbe button.colab-df-convert');\n",
              "      buttonEl.style.display =\n",
              "        google.colab.kernel.accessAllowed ? 'block' : 'none';\n",
              "\n",
              "      async function convertToInteractive(key) {\n",
              "        const element = document.querySelector('#df-7b231b39-2808-4de5-b29a-501e7f01fdbe');\n",
              "        const dataTable =\n",
              "          await google.colab.kernel.invokeFunction('convertToInteractive',\n",
              "                                                    [key], {});\n",
              "        if (!dataTable) return;\n",
              "\n",
              "        const docLinkHtml = 'Like what you see? Visit the ' +\n",
              "          '<a target=\"_blank\" href=https://colab.research.google.com/notebooks/data_table.ipynb>data table notebook</a>'\n",
              "          + ' to learn more about interactive tables.';\n",
              "        element.innerHTML = '';\n",
              "        dataTable['output_type'] = 'display_data';\n",
              "        await google.colab.output.renderOutput(dataTable, element);\n",
              "        const docLink = document.createElement('div');\n",
              "        docLink.innerHTML = docLinkHtml;\n",
              "        element.appendChild(docLink);\n",
              "      }\n",
              "    </script>\n",
              "  </div>\n",
              "\n",
              "\n",
              "<div id=\"df-1307de04-3903-498b-90a7-8947e516f455\">\n",
              "  <button class=\"colab-df-quickchart\" onclick=\"quickchart('df-1307de04-3903-498b-90a7-8947e516f455')\"\n",
              "            title=\"Suggest charts\"\n",
              "            style=\"display:none;\">\n",
              "\n",
              "<svg xmlns=\"http://www.w3.org/2000/svg\" height=\"24px\"viewBox=\"0 0 24 24\"\n",
              "     width=\"24px\">\n",
              "    <g>\n",
              "        <path d=\"M19 3H5c-1.1 0-2 .9-2 2v14c0 1.1.9 2 2 2h14c1.1 0 2-.9 2-2V5c0-1.1-.9-2-2-2zM9 17H7v-7h2v7zm4 0h-2V7h2v10zm4 0h-2v-4h2v4z\"/>\n",
              "    </g>\n",
              "</svg>\n",
              "  </button>\n",
              "\n",
              "<style>\n",
              "  .colab-df-quickchart {\n",
              "      --bg-color: #E8F0FE;\n",
              "      --fill-color: #1967D2;\n",
              "      --hover-bg-color: #E2EBFA;\n",
              "      --hover-fill-color: #174EA6;\n",
              "      --disabled-fill-color: #AAA;\n",
              "      --disabled-bg-color: #DDD;\n",
              "  }\n",
              "\n",
              "  [theme=dark] .colab-df-quickchart {\n",
              "      --bg-color: #3B4455;\n",
              "      --fill-color: #D2E3FC;\n",
              "      --hover-bg-color: #434B5C;\n",
              "      --hover-fill-color: #FFFFFF;\n",
              "      --disabled-bg-color: #3B4455;\n",
              "      --disabled-fill-color: #666;\n",
              "  }\n",
              "\n",
              "  .colab-df-quickchart {\n",
              "    background-color: var(--bg-color);\n",
              "    border: none;\n",
              "    border-radius: 50%;\n",
              "    cursor: pointer;\n",
              "    display: none;\n",
              "    fill: var(--fill-color);\n",
              "    height: 32px;\n",
              "    padding: 0;\n",
              "    width: 32px;\n",
              "  }\n",
              "\n",
              "  .colab-df-quickchart:hover {\n",
              "    background-color: var(--hover-bg-color);\n",
              "    box-shadow: 0 1px 2px rgba(60, 64, 67, 0.3), 0 1px 3px 1px rgba(60, 64, 67, 0.15);\n",
              "    fill: var(--button-hover-fill-color);\n",
              "  }\n",
              "\n",
              "  .colab-df-quickchart-complete:disabled,\n",
              "  .colab-df-quickchart-complete:disabled:hover {\n",
              "    background-color: var(--disabled-bg-color);\n",
              "    fill: var(--disabled-fill-color);\n",
              "    box-shadow: none;\n",
              "  }\n",
              "\n",
              "  .colab-df-spinner {\n",
              "    border: 2px solid var(--fill-color);\n",
              "    border-color: transparent;\n",
              "    border-bottom-color: var(--fill-color);\n",
              "    animation:\n",
              "      spin 1s steps(1) infinite;\n",
              "  }\n",
              "\n",
              "  @keyframes spin {\n",
              "    0% {\n",
              "      border-color: transparent;\n",
              "      border-bottom-color: var(--fill-color);\n",
              "      border-left-color: var(--fill-color);\n",
              "    }\n",
              "    20% {\n",
              "      border-color: transparent;\n",
              "      border-left-color: var(--fill-color);\n",
              "      border-top-color: var(--fill-color);\n",
              "    }\n",
              "    30% {\n",
              "      border-color: transparent;\n",
              "      border-left-color: var(--fill-color);\n",
              "      border-top-color: var(--fill-color);\n",
              "      border-right-color: var(--fill-color);\n",
              "    }\n",
              "    40% {\n",
              "      border-color: transparent;\n",
              "      border-right-color: var(--fill-color);\n",
              "      border-top-color: var(--fill-color);\n",
              "    }\n",
              "    60% {\n",
              "      border-color: transparent;\n",
              "      border-right-color: var(--fill-color);\n",
              "    }\n",
              "    80% {\n",
              "      border-color: transparent;\n",
              "      border-right-color: var(--fill-color);\n",
              "      border-bottom-color: var(--fill-color);\n",
              "    }\n",
              "    90% {\n",
              "      border-color: transparent;\n",
              "      border-bottom-color: var(--fill-color);\n",
              "    }\n",
              "  }\n",
              "</style>\n",
              "\n",
              "  <script>\n",
              "    async function quickchart(key) {\n",
              "      const quickchartButtonEl =\n",
              "        document.querySelector('#' + key + ' button');\n",
              "      quickchartButtonEl.disabled = true;  // To prevent multiple clicks.\n",
              "      quickchartButtonEl.classList.add('colab-df-spinner');\n",
              "      try {\n",
              "        const charts = await google.colab.kernel.invokeFunction(\n",
              "            'suggestCharts', [key], {});\n",
              "      } catch (error) {\n",
              "        console.error('Error during call to suggestCharts:', error);\n",
              "      }\n",
              "      quickchartButtonEl.classList.remove('colab-df-spinner');\n",
              "      quickchartButtonEl.classList.add('colab-df-quickchart-complete');\n",
              "    }\n",
              "    (() => {\n",
              "      let quickchartButtonEl =\n",
              "        document.querySelector('#df-1307de04-3903-498b-90a7-8947e516f455 button');\n",
              "      quickchartButtonEl.style.display =\n",
              "        google.colab.kernel.accessAllowed ? 'block' : 'none';\n",
              "    })();\n",
              "  </script>\n",
              "</div>\n",
              "\n",
              "    </div>\n",
              "  </div>\n"
            ],
            "application/vnd.google.colaboratory.intrinsic+json": {
              "type": "dataframe",
              "variable_name": "df",
              "summary": "{\n  \"name\": \"df\",\n  \"rows\": 9000,\n  \"fields\": [\n    {\n      \"column\": \"id\",\n      \"properties\": {\n        \"dtype\": \"number\",\n        \"std\": 2598,\n        \"min\": 201,\n        \"max\": 9200,\n        \"num_unique_values\": 9000,\n        \"samples\": [\n          8141,\n          1363,\n          783\n        ],\n        \"semantic_type\": \"\",\n        \"description\": \"\"\n      }\n    },\n    {\n      \"column\": \"text\",\n      \"properties\": {\n        \"dtype\": \"string\",\n        \"num_unique_values\": 9000,\n        \"samples\": [\n          \"At Target in the movie section, and this guy is educating his girlfriend about Star Wars. Her facial expressions are hysterical.\",\n          \"Italy allows two migrant rescue ships to dock after other European countries offer to take them \\u00c2\\u2026 https://t.co/Vo3YE9XoxK\",\n          \"@FoxNews @foxandfriends @restore_US_nowJust Imagine THE SIZEof THAT RED WAVE !!GOD BLESS TRUMP!Build That Wall#BuildThatWall Plz share..\"\n        ],\n        \"semantic_type\": \"\",\n        \"description\": \"\"\n      }\n    },\n    {\n      \"column\": \"HS\",\n      \"properties\": {\n        \"dtype\": \"number\",\n        \"std\": 0,\n        \"min\": 0,\n        \"max\": 1,\n        \"num_unique_values\": 2,\n        \"samples\": [\n          0,\n          1\n        ],\n        \"semantic_type\": \"\",\n        \"description\": \"\"\n      }\n    },\n    {\n      \"column\": \"TR\",\n      \"properties\": {\n        \"dtype\": \"number\",\n        \"std\": 0,\n        \"min\": 0,\n        \"max\": 1,\n        \"num_unique_values\": 2,\n        \"samples\": [\n          1,\n          0\n        ],\n        \"semantic_type\": \"\",\n        \"description\": \"\"\n      }\n    },\n    {\n      \"column\": \"AG\",\n      \"properties\": {\n        \"dtype\": \"category\",\n        \"num_unique_values\": 3,\n        \"samples\": [\n          \"0\",\n          \"1\"\n        ],\n        \"semantic_type\": \"\",\n        \"description\": \"\"\n      }\n    },\n    {\n      \"column\": \"processed_text\",\n      \"properties\": {\n        \"dtype\": \"string\",\n        \"num_unique_values\": 9000,\n        \"samples\": [\n          \"target movie section guy educating girlfriend star war facial expression hysterical\",\n          \"italy allows two migrant rescue ship dock european country offer take \\u00e2\\u2026 httpstcovo3ye9xoxk\"\n        ],\n        \"semantic_type\": \"\",\n        \"description\": \"\"\n      }\n    }\n  ]\n}"
            }
          },
          "metadata": {},
          "execution_count": 25
        }
      ]
    },
    {
      "cell_type": "code",
      "source": [
        "# EDA\n",
        "plt.figure(figsize=(15, 5))\n",
        "plt.subplot(1, 3, 1)\n",
        "sns.countplot(x='HS', data=df)\n",
        "plt.title('Hate Speech Distribution')\n",
        "\n",
        "plt.subplot(1, 3, 2)\n",
        "sns.countplot(x='TR', data=df[df['HS'] == 1])\n",
        "plt.title('Target Type (Hateful Tweets Only)')\n",
        "\n",
        "plt.subplot(1, 3, 3)\n",
        "sns.countplot(x='AG', data=df[df['HS'] == 1])\n",
        "plt.title('Aggressiveness (Hateful Tweets Only)')\n",
        "\n",
        "plt.tight_layout()\n",
        "plt.show()"
      ],
      "metadata": {
        "colab": {
          "base_uri": "https://localhost:8080/",
          "height": 303
        },
        "id": "5FHkDEAsuB6A",
        "outputId": "8eaf7c43-4bb6-4b36-bf12-2afe42bd447a"
      },
      "execution_count": null,
      "outputs": [
        {
          "output_type": "display_data",
          "data": {
            "text/plain": [
              "<Figure size 1500x500 with 3 Axes>"
            ],
            "image/png": "[encoded data removed]"
          },
          "metadata": {}
        }
      ]
    },
    {
      "cell_type": "code",
      "source": [],
      "metadata": {
        "id": "6Vmh_Ze2uB9l"
      },
      "execution_count": null,
      "outputs": []
    },
    {
      "cell_type": "markdown",
      "source": [
        "###Multilingual Text Vectorization"
      ],
      "metadata": {
        "id": "-8Fj5CvBxvEw"
      }
    },
    {
      "cell_type": "code",
      "source": [
        "# Parameters\n",
        "max_words = 10000\n",
        "max_len = 100\n",
        "\n",
        "# Single tokenizer\n",
        "tokenizer = Tokenizer(num_words=max_words)\n",
        "tokenizer.fit_on_texts(df['processed_text'])\n",
        "\n",
        "def vectorize_data(df, tokenizer):\n",
        "    sequences = tokenizer.texts_to_sequences(df['processed_text'])\n",
        "    padded = pad_sequences(sequences, maxlen=max_len)\n",
        "    return padded\n",
        "\n",
        "# Vectorize data\n",
        "X = vectorize_data(df, tokenizer)\n",
        "\n",
        "# Get labels\n",
        "y_hs = df['HS'].values\n",
        "y_tr = df['TR'].values\n",
        "y_ag = df['AG'].values\n",
        "\n",
        "# Split data\n",
        "X_train, X_test, y_train_hs, y_test_hs, y_train_tr, y_test_tr, y_train_ag, y_test_ag = train_test_split(\n",
        "    X, y_hs, y_tr, y_ag, test_size=0.2, random_state=42)"
      ],
      "metadata": {
        "id": "E6oEAt4RxyIb"
      },
      "execution_count": null,
      "outputs": []
    },
    {
      "cell_type": "code",
      "source": [
        "X_train.shape, X_test.shape, y_train_hs.shape, y_test_hs.shape, y_train_tr.shape, y_test_tr.shape, y_train_ag.shape, y_test_ag.shape"
      ],
      "metadata": {
        "colab": {
          "base_uri": "https://localhost:8080/"
        },
        "id": "XPDAdMQuzuUp",
        "outputId": "d7f9be44-acc4-4e3e-8d69-800b469d7c4f"
      },
      "execution_count": null,
      "outputs": [
        {
          "output_type": "execute_result",
          "data": {
            "text/plain": [
              "((7200, 100),\n",
              " (1800, 100),\n",
              " (7200,),\n",
              " (1800,),\n",
              " (7200,),\n",
              " (1800,),\n",
              " (7200,),\n",
              " (1800,))"
            ]
          },
          "metadata": {},
          "execution_count": 24
        }
      ]
    },
    {
      "cell_type": "markdown",
      "source": [
        "#Task A: Hate Speech Detection Model"
      ],
      "metadata": {
        "id": "1O5lXvhlz3Rp"
      }
    },
    {
      "cell_type": "code",
      "source": [
        "from tensorflow.keras.layers import Input, Embedding, Bidirectional, LSTM, Dense, Dropout\n",
        "from tensorflow.keras.models import Model\n",
        "from tensorflow.keras.regularizers import l2\n",
        "from tensorflow.keras.callbacks import EarlyStopping\n",
        "import tensorflow as tf"
      ],
      "metadata": {
        "id": "KOwLI6rZZ0d1"
      },
      "execution_count": null,
      "outputs": []
    },
    {
      "cell_type": "code",
      "source": [
        "max_len=100\n",
        "max_words=20000"
      ],
      "metadata": {
        "id": "M6vb_YRSZ1Kw"
      },
      "execution_count": null,
      "outputs": []
    },
    {
      "cell_type": "code",
      "source": [
        "input_layer = Input(shape=(max_len,))"
      ],
      "metadata": {
        "id": "eYjhiRyCaFCK"
      },
      "execution_count": null,
      "outputs": []
    },
    {
      "cell_type": "code",
      "source": [
        "input_layer"
      ],
      "metadata": {
        "colab": {
          "base_uri": "https://localhost:8080/"
        },
        "id": "XCSdc7yVaKWX",
        "outputId": "ba650b6d-ad0f-416c-a67a-6fde2e5c92bc"
      },
      "execution_count": null,
      "outputs": [
        {
          "output_type": "execute_result",
          "data": {
            "text/plain": [
              "<KerasTensor shape=(None, 100), dtype=float32, sparse=False, name=keras_tensor_34>"
            ]
          },
          "metadata": {},
          "execution_count": 33
        }
      ]
    },
    {
      "cell_type": "code",
      "source": [
        "# Single processing pipeline\n",
        "embedding = Embedding(max_words, 128)(input_layer)\n",
        "lstm = Bidirectional(LSTM(64))(embedding)"
      ],
      "metadata": {
        "id": "tBxComyiaMuj"
      },
      "execution_count": null,
      "outputs": []
    },
    {
      "cell_type": "code",
      "source": [
        "# Common layers\n",
        "dense = Dense(64, activation='relu', kernel_regularizer=l2(0.01))(lstm)\n",
        "dropout = Dropout(0.5)(dense)\n",
        "output_hs = Dense(1, activation='sigmoid', name='hs_output')(dropout)\n",
        "\n",
        "model_hs = Model(inputs=input_layer, outputs=output_hs)\n",
        "\n",
        "model_hs.compile(\n",
        "    optimizer='adam',\n",
        "    loss='binary_crossentropy',\n",
        "    metrics=['accuracy', tf.keras.metrics.Precision(), tf.keras.metrics.Recall(), tf.keras.metrics.AUC()]\n",
        ")"
      ],
      "metadata": {
        "id": "tliUciiNaX2U"
      },
      "execution_count": null,
      "outputs": []
    },
    {
      "cell_type": "code",
      "source": [
        "model_hs.summary()"
      ],
      "metadata": {
        "colab": {
          "base_uri": "https://localhost:8080/",
          "height": 321
        },
        "id": "obQ6XBogbBZv",
        "outputId": "9296ad2b-9101-46af-a3f1-b14942c65e92"
      },
      "execution_count": null,
      "outputs": [
        {
          "output_type": "display_data",
          "data": {
            "text/plain": [
              "\u001b[1mModel: \"functional_3\"\u001b[0m\n"
            ],
            "text/html": [
              "<pre style=\"white-space:pre;overflow-x:auto;line-height:normal;font-family:Menlo,'DejaVu Sans Mono',consolas,'Courier New',monospace\"><span style=\"font-weight: bold\">Model: \"functional_3\"</span>\n",
              "</pre>\n"
            ]
          },
          "metadata": {}
        },
        {
          "output_type": "display_data",
          "data": {
            "text/plain": [
              "┏━━━━━━━━━━━━━━━━━━━━━━━━━━━━━━━━━━━━━━┳━━━━━━━━━━━━━━━━━━━━━━━━━━━━━┳━━━━━━━━━━━━━━━━━┓\n",
              "┃\u001b[1m \u001b[0m\u001b[1mLayer (type)                        \u001b[0m\u001b[1m \u001b[0m┃\u001b[1m \u001b[0m\u001b[1mOutput Shape               \u001b[0m\u001b[1m \u001b[0m┃\u001b[1m \u001b[0m\u001b[1m        Param #\u001b[0m\u001b[1m \u001b[0m┃\n",
              "┡━━━━━━━━━━━━━━━━━━━━━━━━━━━━━━━━━━━━━━╇━━━━━━━━━━━━━━━━━━━━━━━━━━━━━╇━━━━━━━━━━━━━━━━━┩\n",
              "│ input_layer_4 (\u001b[38;5;33mInputLayer\u001b[0m)           │ (\u001b[38;5;45mNone\u001b[0m, \u001b[38;5;34m100\u001b[0m)                 │               \u001b[38;5;34m0\u001b[0m │\n",
              "├──────────────────────────────────────┼─────────────────────────────┼─────────────────┤\n",
              "│ embedding_6 (\u001b[38;5;33mEmbedding\u001b[0m)              │ (\u001b[38;5;45mNone\u001b[0m, \u001b[38;5;34m100\u001b[0m, \u001b[38;5;34m128\u001b[0m)            │       \u001b[38;5;34m2,560,000\u001b[0m │\n",
              "├──────────────────────────────────────┼─────────────────────────────┼─────────────────┤\n",
              "│ bidirectional_6 (\u001b[38;5;33mBidirectional\u001b[0m)      │ (\u001b[38;5;45mNone\u001b[0m, \u001b[38;5;34m128\u001b[0m)                 │          \u001b[38;5;34m98,816\u001b[0m │\n",
              "├──────────────────────────────────────┼─────────────────────────────┼─────────────────┤\n",
              "│ dense_3 (\u001b[38;5;33mDense\u001b[0m)                      │ (\u001b[38;5;45mNone\u001b[0m, \u001b[38;5;34m64\u001b[0m)                  │           \u001b[38;5;34m8,256\u001b[0m │\n",
              "├──────────────────────────────────────┼─────────────────────────────┼─────────────────┤\n",
              "│ dropout_3 (\u001b[38;5;33mDropout\u001b[0m)                  │ (\u001b[38;5;45mNone\u001b[0m, \u001b[38;5;34m64\u001b[0m)                  │               \u001b[38;5;34m0\u001b[0m │\n",
              "├──────────────────────────────────────┼─────────────────────────────┼─────────────────┤\n",
              "│ hs_output (\u001b[38;5;33mDense\u001b[0m)                    │ (\u001b[38;5;45mNone\u001b[0m, \u001b[38;5;34m1\u001b[0m)                   │              \u001b[38;5;34m65\u001b[0m │\n",
              "└──────────────────────────────────────┴─────────────────────────────┴─────────────────┘\n"
            ],
            "text/html": [
              "<pre style=\"white-space:pre;overflow-x:auto;line-height:normal;font-family:Menlo,'DejaVu Sans Mono',consolas,'Courier New',monospace\">┏━━━━━━━━━━━━━━━━━━━━━━━━━━━━━━━━━━━━━━┳━━━━━━━━━━━━━━━━━━━━━━━━━━━━━┳━━━━━━━━━━━━━━━━━┓\n",
              "┃<span style=\"font-weight: bold\"> Layer (type)                         </span>┃<span style=\"font-weight: bold\"> Output Shape                </span>┃<span style=\"font-weight: bold\">         Param # </span>┃\n",
              "┡━━━━━━━━━━━━━━━━━━━━━━━━━━━━━━━━━━━━━━╇━━━━━━━━━━━━━━━━━━━━━━━━━━━━━╇━━━━━━━━━━━━━━━━━┩\n",
              "│ input_layer_4 (<span style=\"color: #0087ff; text-decoration-color: #0087ff\">InputLayer</span>)           │ (<span style=\"color: #00d7ff; text-decoration-color: #00d7ff\">None</span>, <span style=\"color: #00af00; text-decoration-color: #00af00\">100</span>)                 │               <span style=\"color: #00af00; text-decoration-color: #00af00\">0</span> │\n",
              "├──────────────────────────────────────┼─────────────────────────────┼─────────────────┤\n",
              "│ embedding_6 (<span style=\"color: #0087ff; text-decoration-color: #0087ff\">Embedding</span>)              │ (<span style=\"color: #00d7ff; text-decoration-color: #00d7ff\">None</span>, <span style=\"color: #00af00; text-decoration-color: #00af00\">100</span>, <span style=\"color: #00af00; text-decoration-color: #00af00\">128</span>)            │       <span style=\"color: #00af00; text-decoration-color: #00af00\">2,560,000</span> │\n",
              "├──────────────────────────────────────┼─────────────────────────────┼─────────────────┤\n",
              "│ bidirectional_6 (<span style=\"color: #0087ff; text-decoration-color: #0087ff\">Bidirectional</span>)      │ (<span style=\"color: #00d7ff; text-decoration-color: #00d7ff\">None</span>, <span style=\"color: #00af00; text-decoration-color: #00af00\">128</span>)                 │          <span style=\"color: #00af00; text-decoration-color: #00af00\">98,816</span> │\n",
              "├──────────────────────────────────────┼─────────────────────────────┼─────────────────┤\n",
              "│ dense_3 (<span style=\"color: #0087ff; text-decoration-color: #0087ff\">Dense</span>)                      │ (<span style=\"color: #00d7ff; text-decoration-color: #00d7ff\">None</span>, <span style=\"color: #00af00; text-decoration-color: #00af00\">64</span>)                  │           <span style=\"color: #00af00; text-decoration-color: #00af00\">8,256</span> │\n",
              "├──────────────────────────────────────┼─────────────────────────────┼─────────────────┤\n",
              "│ dropout_3 (<span style=\"color: #0087ff; text-decoration-color: #0087ff\">Dropout</span>)                  │ (<span style=\"color: #00d7ff; text-decoration-color: #00d7ff\">None</span>, <span style=\"color: #00af00; text-decoration-color: #00af00\">64</span>)                  │               <span style=\"color: #00af00; text-decoration-color: #00af00\">0</span> │\n",
              "├──────────────────────────────────────┼─────────────────────────────┼─────────────────┤\n",
              "│ hs_output (<span style=\"color: #0087ff; text-decoration-color: #0087ff\">Dense</span>)                    │ (<span style=\"color: #00d7ff; text-decoration-color: #00d7ff\">None</span>, <span style=\"color: #00af00; text-decoration-color: #00af00\">1</span>)                   │              <span style=\"color: #00af00; text-decoration-color: #00af00\">65</span> │\n",
              "└──────────────────────────────────────┴─────────────────────────────┴─────────────────┘\n",
              "</pre>\n"
            ]
          },
          "metadata": {}
        },
        {
          "output_type": "display_data",
          "data": {
            "text/plain": [
              "\u001b[1m Total params: \u001b[0m\u001b[38;5;34m2,667,137\u001b[0m (10.17 MB)\n"
            ],
            "text/html": [
              "<pre style=\"white-space:pre;overflow-x:auto;line-height:normal;font-family:Menlo,'DejaVu Sans Mono',consolas,'Courier New',monospace\"><span style=\"font-weight: bold\"> Total params: </span><span style=\"color: #00af00; text-decoration-color: #00af00\">2,667,137</span> (10.17 MB)\n",
              "</pre>\n"
            ]
          },
          "metadata": {}
        },
        {
          "output_type": "display_data",
          "data": {
            "text/plain": [
              "\u001b[1m Trainable params: \u001b[0m\u001b[38;5;34m2,667,137\u001b[0m (10.17 MB)\n"
            ],
            "text/html": [
              "<pre style=\"white-space:pre;overflow-x:auto;line-height:normal;font-family:Menlo,'DejaVu Sans Mono',consolas,'Courier New',monospace\"><span style=\"font-weight: bold\"> Trainable params: </span><span style=\"color: #00af00; text-decoration-color: #00af00\">2,667,137</span> (10.17 MB)\n",
              "</pre>\n"
            ]
          },
          "metadata": {}
        },
        {
          "output_type": "display_data",
          "data": {
            "text/plain": [
              "\u001b[1m Non-trainable params: \u001b[0m\u001b[38;5;34m0\u001b[0m (0.00 B)\n"
            ],
            "text/html": [
              "<pre style=\"white-space:pre;overflow-x:auto;line-height:normal;font-family:Menlo,'DejaVu Sans Mono',consolas,'Courier New',monospace\"><span style=\"font-weight: bold\"> Non-trainable params: </span><span style=\"color: #00af00; text-decoration-color: #00af00\">0</span> (0.00 B)\n",
              "</pre>\n"
            ]
          },
          "metadata": {}
        }
      ]
    },
    {
      "cell_type": "code",
      "source": [
        "# Train the model\n",
        "history_hs = model_hs.fit(\n",
        "    X_train, y_train_hs,  # Use original data without language indicator\n",
        "    epochs=10,\n",
        "    batch_size=64,\n",
        "    validation_split=0.2,\n",
        "    callbacks=[EarlyStopping(patience=3, restore_best_weights=True)],\n",
        "    verbose=1\n",
        ")"
      ],
      "metadata": {
        "colab": {
          "base_uri": "https://localhost:8080/"
        },
        "id": "wECo5RITbF3y",
        "outputId": "999b6386-a5f8-43bb-e62b-bfe4ac99c1e7"
      },
      "execution_count": null,
      "outputs": [
        {
          "output_type": "stream",
          "name": "stdout",
          "text": [
            "Epoch 1/10\n",
            "\u001b[1m90/90\u001b[0m \u001b[32m━━━━━━━━━━━━━━━━━━━━\u001b[0m\u001b[37m\u001b[0m \u001b[1m8s\u001b[0m 23ms/step - accuracy: 0.5923 - auc_3: 0.5854 - loss: 1.2838 - precision_3: 0.5958 - recall_3: 0.1867 - val_accuracy: 0.7549 - val_auc_3: 0.8227 - val_loss: 0.7011 - val_precision_3: 0.7049 - val_recall_3: 0.7131\n",
            "Epoch 2/10\n",
            "\u001b[1m90/90\u001b[0m \u001b[32m━━━━━━━━━━━━━━━━━━━━\u001b[0m\u001b[37m\u001b[0m \u001b[1m2s\u001b[0m 15ms/step - accuracy: 0.8331 - auc_3: 0.8906 - loss: 0.5541 - precision_3: 0.8149 - recall_3: 0.7885 - val_accuracy: 0.7632 - val_auc_3: 0.8325 - val_loss: 0.5513 - val_precision_3: 0.7339 - val_recall_3: 0.6816\n",
            "Epoch 3/10\n",
            "\u001b[1m90/90\u001b[0m \u001b[32m━━━━━━━━━━━━━━━━━━━━\u001b[0m\u001b[37m\u001b[0m \u001b[1m3s\u001b[0m 17ms/step - accuracy: 0.8919 - auc_3: 0.9456 - loss: 0.3352 - precision_3: 0.8669 - recall_3: 0.8807 - val_accuracy: 0.7382 - val_auc_3: 0.8158 - val_loss: 0.5936 - val_precision_3: 0.6662 - val_recall_3: 0.7512\n",
            "Epoch 4/10\n",
            "\u001b[1m90/90\u001b[0m \u001b[32m━━━━━━━━━━━━━━━━━━━━\u001b[0m\u001b[37m\u001b[0m \u001b[1m2s\u001b[0m 14ms/step - accuracy: 0.9329 - auc_3: 0.9761 - loss: 0.2209 - precision_3: 0.9160 - recall_3: 0.9292 - val_accuracy: 0.7139 - val_auc_3: 0.7944 - val_loss: 0.7092 - val_precision_3: 0.6411 - val_recall_3: 0.7197\n",
            "Epoch 5/10\n",
            "\u001b[1m90/90\u001b[0m \u001b[32m━━━━━━━━━━━━━━━━━━━━\u001b[0m\u001b[37m\u001b[0m \u001b[1m3s\u001b[0m 16ms/step - accuracy: 0.9609 - auc_3: 0.9872 - loss: 0.1506 - precision_3: 0.9483 - recall_3: 0.9582 - val_accuracy: 0.7194 - val_auc_3: 0.7885 - val_loss: 0.8219 - val_precision_3: 0.6543 - val_recall_3: 0.6998\n"
          ]
        }
      ]
    },
    {
      "cell_type": "code",
      "source": [
        "# Evaluate\n",
        "y_pred_hs = (model_hs.predict(X_test) > 0.5).astype(\"int32\")\n",
        "\n",
        "print(\"Task A - Hate Speech Detection Results:\")\n",
        "print(classification_report(y_test_hs, y_pred_hs))\n",
        "\n",
        "# Confusion matrix\n",
        "cm = confusion_matrix(y_test_hs, y_pred_hs)\n",
        "sns.heatmap(cm, annot=True, fmt='d', cmap='Blues')\n",
        "plt.title('Confusion Matrix - Hate Speech Detection')\n",
        "plt.xlabel('Predicted')\n",
        "plt.ylabel('Actual')\n",
        "plt.show()"
      ],
      "metadata": {
        "colab": {
          "base_uri": "https://localhost:8080/",
          "height": 667
        },
        "id": "86afEpvHcBuX",
        "outputId": "c4b13647-a515-4582-dd6d-add5868859d6"
      },
      "execution_count": null,
      "outputs": [
        {
          "output_type": "stream",
          "name": "stdout",
          "text": [
            "\u001b[1m57/57\u001b[0m \u001b[32m━━━━━━━━━━━━━━━━━━━━\u001b[0m\u001b[37m\u001b[0m \u001b[1m1s\u001b[0m 14ms/step\n",
            "Task A - Hate Speech Detection Results:\n",
            "              precision    recall  f1-score   support\n",
            "\n",
            "           0       0.80      0.82      0.81      1060\n",
            "           1       0.73      0.71      0.72       740\n",
            "\n",
            "    accuracy                           0.77      1800\n",
            "   macro avg       0.77      0.76      0.77      1800\n",
            "weighted avg       0.77      0.77      0.77      1800\n",
            "\n"
          ]
        },
        {
          "output_type": "display_data",
          "data": {
            "text/plain": [
              "<Figure size 640x480 with 2 Axes>"
            ],
            "image/png": "[encoded data removed]"
          },
          "metadata": {}
        }
      ]
    },
    {
      "cell_type": "code",
      "source": [
        "# Plot training history\n",
        "plt.figure(figsize=(12, 4))\n",
        "plt.subplot(1, 2, 1)\n",
        "plt.plot(history_hs.history['accuracy'], label='Train Accuracy')\n",
        "plt.plot(history_hs.history['val_accuracy'], label='Validation Accuracy')\n",
        "plt.title('Model Accuracy')\n",
        "plt.ylabel('Accuracy')\n",
        "plt.xlabel('Epoch')\n",
        "plt.legend()\n",
        "\n",
        "plt.subplot(1, 2, 2)\n",
        "plt.plot(history_hs.history['loss'], label='Train Loss')\n",
        "plt.plot(history_hs.history['val_loss'], label='Validation Loss')\n",
        "plt.title('Model Loss')\n",
        "plt.ylabel('Loss')\n",
        "plt.xlabel('Epoch')\n",
        "plt.legend()\n",
        "plt.show()"
      ],
      "metadata": {
        "colab": {
          "base_uri": "https://localhost:8080/",
          "height": 355
        },
        "id": "P2eeqV7XcJUo",
        "outputId": "51e9db4f-07b4-45a6-e8a5-e11abfa2af7f"
      },
      "execution_count": null,
      "outputs": [
        {
          "output_type": "display_data",
          "data": {
            "text/plain": [
              "<Figure size 1200x400 with 2 Axes>"
            ],
            "image/png": "[encoded data removed]"
          },
          "metadata": {}
        }
      ]
    },
    {
      "cell_type": "code",
      "source": [
        "from tensorflow.keras.preprocessing.sequence import pad_sequences\n",
        "from tensorflow.keras.preprocessing.text import Tokenizer\n",
        "import pickle\n",
        "\n",
        "# Save tokenizer\n",
        "with open('tokenizer.pickle', 'wb') as handle:\n",
        "    pickle.dump(tokenizer, handle, protocol=pickle.HIGHEST_PROTOCOL)\n",
        "\n",
        "# Load tokenizer\n",
        "with open('tokenizer.pickle', 'rb') as handle:\n",
        "    tokenizer = pickle.load(handle)\n",
        "\n",
        "def predict_hate_speech(text):\n",
        "    # Preprocess input text\n",
        "    processed_text = preprocess(text)  # Use your preprocessing function\n",
        "\n",
        "    # Tokenize and pad\n",
        "    sequence = tokenizer.texts_to_sequences([processed_text])\n",
        "    padded_sequence = pad_sequences(sequence, maxlen=max_len)\n",
        "\n",
        "    # Make prediction\n",
        "    prediction = model_hs.predict(padded_sequence)[0][0]\n",
        "\n",
        "    # Return result\n",
        "    return {\n",
        "        'text': text,\n",
        "        'hate_speech_probability': float(prediction),\n",
        "        'prediction': 'Hate Speech' if prediction > 0.5 else 'Not Hate Speech'\n",
        "    }\n",
        "\n",
        "# Test prediction\n",
        "sample_text = \"This is a test tweet with offensive language\"\n",
        "print(predict_hate_speech(sample_text))"
      ],
      "metadata": {
        "colab": {
          "base_uri": "https://localhost:8080/"
        },
        "id": "fLcJdSnTcOnz",
        "outputId": "6aaa1a51-ee41-43af-b967-361ecdb292ee"
      },
      "execution_count": null,
      "outputs": [
        {
          "output_type": "stream",
          "name": "stdout",
          "text": [
            "\u001b[1m1/1\u001b[0m \u001b[32m━━━━━━━━━━━━━━━━━━━━\u001b[0m\u001b[37m\u001b[0m \u001b[1m0s\u001b[0m 32ms/step\n",
            "{'text': 'This is a test tweet with offensive language', 'hate_speech_probability': 0.09473628550767899, 'prediction': 'Not Hate Speech'}\n"
          ]
        }
      ]
    },
    {
      "cell_type": "code",
      "source": [],
      "metadata": {
        "id": "CGh6MVrtf2yj"
      },
      "execution_count": null,
      "outputs": []
    },
    {
      "cell_type": "code",
      "source": [],
      "metadata": {
        "id": "_vSg15feno8v"
      },
      "execution_count": null,
      "outputs": []
    },
    {
      "cell_type": "markdown",
      "source": [
        "#TASK B - Aggressive behavior and Target Classification: where systems are asked first to classify hateful tweets for English and Spanish (e.g., tweets where Hate Speech against women or immigrants has been identified) as aggressive or not aggressive, and second to identify the target harassed as individual or generic (i.e. single human or group"
      ],
      "metadata": {
        "id": "HE-aoFzNpBjj"
      }
    },
    {
      "cell_type": "code",
      "source": [
        "print(\"Unique values in y_train_tr_b:\", np.unique(y_train_tr_b))\n",
        "print(\"Unique values in y_train_ag_b:\", np.unique(y_train_ag_b))"
      ],
      "metadata": {
        "colab": {
          "base_uri": "https://localhost:8080/"
        },
        "id": "X7vgpLh7rBkP",
        "outputId": "92b1a6e4-95b9-4f70-901d-27f6b1849ef6"
      },
      "execution_count": null,
      "outputs": [
        {
          "output_type": "stream",
          "name": "stdout",
          "text": [
            "Unique values in y_train_tr_b: [1.]\n",
            "Unique values in y_train_ag_b: [1.]\n"
          ]
        }
      ]
    },
    {
      "cell_type": "code",
      "source": [
        "y_train_tr_b = np.where(y_train_tr_b == 'individual', 0, 1)\n",
        "y_test_tr_b = np.where(y_test_tr_b == 'individual', 0, 1)\n"
      ],
      "metadata": {
        "id": "NjaQdQlhrepS"
      },
      "execution_count": null,
      "outputs": []
    },
    {
      "cell_type": "code",
      "source": [
        "y_train_ag_b = np.where(y_train_ag_b == 'non-aggressive', 0, 1)\n",
        "y_test_ag_b = np.where(y_test_ag_b == 'non-aggressive', 0, 1)"
      ],
      "metadata": {
        "id": "5uzyzfbUrkLz"
      },
      "execution_count": null,
      "outputs": []
    },
    {
      "cell_type": "code",
      "source": [
        "y_train_ag_b"
      ],
      "metadata": {
        "colab": {
          "base_uri": "https://localhost:8080/"
        },
        "id": "gK4IHZnfrq1c",
        "outputId": "4316ccfc-5ab3-4c8f-b84f-e79f26876d99"
      },
      "execution_count": null,
      "outputs": [
        {
          "output_type": "execute_result",
          "data": {
            "text/plain": [
              "array([1, 1, 1, ..., 1, 1, 1])"
            ]
          },
          "metadata": {},
          "execution_count": 64
        }
      ]
    },
    {
      "cell_type": "code",
      "source": [
        "# Now convert to float32\n",
        "y_train_tr_b = y_train_tr_b.astype('float32')\n",
        "y_train_ag_b = y_train_ag_b.astype('float32')\n",
        "y_test_tr_b = y_test_tr_b.astype('float32')\n",
        "y_test_ag_b = y_test_ag_b.astype('float32')\n"
      ],
      "metadata": {
        "id": "nq5_MTqAtjqp"
      },
      "execution_count": null,
      "outputs": []
    },
    {
      "cell_type": "code",
      "source": [
        "# Verify the conversion\n",
        "print(\"\\nAfter conversion:\")\n",
        "print(\"Unique values in y_train_tr_b:\", np.unique(y_train_tr_b))\n",
        "print(\"Unique values in y_train_ag_b:\", np.unique(y_train_ag_b))\n",
        "print(\"Data types:\", y_train_tr_b.dtype, y_train_ag_b.dtype)"
      ],
      "metadata": {
        "colab": {
          "base_uri": "https://localhost:8080/"
        },
        "id": "2ebF14CPtumB",
        "outputId": "435570d1-2c11-4f8e-e4b4-31192619c5ad"
      },
      "execution_count": null,
      "outputs": [
        {
          "output_type": "stream",
          "name": "stdout",
          "text": [
            "\n",
            "After conversion:\n",
            "Unique values in y_train_tr_b: [1.]\n",
            "Unique values in y_train_ag_b: [1.]\n",
            "Data types: float32 float32\n"
          ]
        }
      ]
    },
    {
      "cell_type": "code",
      "source": [
        "input_layer_b = Input(shape=(max_len,))\n",
        "embedding_b = Embedding(input_dim=max_words, output_dim=128)(input_layer_b)\n",
        "lstm_b = Bidirectional(LSTM(64))(embedding_b)\n",
        "dense_b = Dense(64, activation='relu', kernel_regularizer=l2(0.01))(lstm_b)\n",
        "dropout_b = Dropout(0.5)(dense_b)\n",
        "\n",
        "output_tr = Dense(1, activation='sigmoid', name='tr_output')(dropout_b)\n",
        "output_ag = Dense(1, activation='sigmoid', name='ag_output')(dropout_b)\n",
        "\n",
        "model_task_b = Model(inputs=input_layer_b, outputs=[output_tr, output_ag])\n",
        "\n",
        "model_task_b.compile(\n",
        "    optimizer='adam',\n",
        "    loss={'tr_output': 'binary_crossentropy', 'ag_output': 'binary_crossentropy'},\n",
        "    metrics={'tr_output': ['accuracy', tf.keras.metrics.Precision(), tf.keras.metrics.Recall()],\n",
        "             'ag_output': ['accuracy', tf.keras.metrics.Precision(), tf.keras.metrics.Recall()]},\n",
        "    loss_weights={'tr_output': 1.0, 'ag_output': 1.0}\n",
        ")\n"
      ],
      "metadata": {
        "id": "73hWzveJt3Zx"
      },
      "execution_count": null,
      "outputs": []
    },
    {
      "cell_type": "code",
      "source": [
        "# Train the model\n",
        "history_b = model_task_b.fit(\n",
        "    X_train_b,\n",
        "    {'tr_output': y_train_tr_b, 'ag_output': y_train_ag_b},\n",
        "    epochs=10,\n",
        "    batch_size=64,\n",
        "    validation_split=0.2,\n",
        "    callbacks=[EarlyStopping(patience=3, restore_best_weights=True)],\n",
        "    verbose=1\n",
        ")"
      ],
      "metadata": {
        "colab": {
          "base_uri": "https://localhost:8080/"
        },
        "id": "dvDxRhFqt41N",
        "outputId": "c5bc61b4-c548-4bdb-d1e8-676854c2af25"
      },
      "execution_count": null,
      "outputs": [
        {
          "output_type": "stream",
          "name": "stdout",
          "text": [
            "Epoch 1/10\n",
            "\u001b[1m39/39\u001b[0m \u001b[32m━━━━━━━━━━━━━━━━━━━━\u001b[0m\u001b[37m\u001b[0m \u001b[1m6s\u001b[0m 58ms/step - ag_output_accuracy: 0.8888 - ag_output_loss: 0.3702 - ag_output_precision_11: 1.0000 - ag_output_recall_11: 0.8888 - loss: 1.4508 - tr_output_accuracy: 0.9164 - tr_output_loss: 0.3478 - tr_output_precision_10: 1.0000 - tr_output_recall_10: 0.9164 - val_ag_output_accuracy: 1.0000 - val_ag_output_loss: 4.2452e-04 - val_ag_output_precision_11: 1.0000 - val_ag_output_recall_11: 1.0000 - val_loss: 0.4910 - val_tr_output_accuracy: 1.0000 - val_tr_output_loss: 3.6350e-04 - val_tr_output_precision_10: 1.0000 - val_tr_output_recall_10: 1.0000\n",
            "Epoch 2/10\n",
            "\u001b[1m39/39\u001b[0m \u001b[32m━━━━━━━━━━━━━━━━━━━━\u001b[0m\u001b[37m\u001b[0m \u001b[1m2s\u001b[0m 45ms/step - ag_output_accuracy: 1.0000 - ag_output_loss: 0.0070 - ag_output_precision_11: 1.0000 - ag_output_recall_11: 1.0000 - loss: 0.4382 - tr_output_accuracy: 1.0000 - tr_output_loss: 0.0049 - tr_output_precision_10: 1.0000 - tr_output_recall_10: 1.0000 - val_ag_output_accuracy: 1.0000 - val_ag_output_loss: 2.3245e-04 - val_ag_output_precision_11: 1.0000 - val_ag_output_recall_11: 1.0000 - val_loss: 0.2671 - val_tr_output_accuracy: 1.0000 - val_tr_output_loss: 2.2930e-04 - val_tr_output_precision_10: 1.0000 - val_tr_output_recall_10: 1.0000\n",
            "Epoch 3/10\n",
            "\u001b[1m39/39\u001b[0m \u001b[32m━━━━━━━━━━━━━━━━━━━━\u001b[0m\u001b[37m\u001b[0m \u001b[1m2s\u001b[0m 45ms/step - ag_output_accuracy: 0.9991 - ag_output_loss: 0.0060 - ag_output_precision_11: 1.0000 - ag_output_recall_11: 0.9991 - loss: 0.2411 - tr_output_accuracy: 1.0000 - tr_output_loss: 0.0042 - tr_output_precision_10: 1.0000 - tr_output_recall_10: 1.0000 - val_ag_output_accuracy: 1.0000 - val_ag_output_loss: 3.0878e-04 - val_ag_output_precision_11: 1.0000 - val_ag_output_recall_11: 1.0000 - val_loss: 0.1453 - val_tr_output_accuracy: 1.0000 - val_tr_output_loss: 2.3506e-04 - val_tr_output_precision_10: 1.0000 - val_tr_output_recall_10: 1.0000\n",
            "Epoch 4/10\n",
            "\u001b[1m39/39\u001b[0m \u001b[32m━━━━━━━━━━━━━━━━━━━━\u001b[0m\u001b[37m\u001b[0m \u001b[1m2s\u001b[0m 29ms/step - ag_output_accuracy: 1.0000 - ag_output_loss: 0.0051 - ag_output_precision_11: 1.0000 - ag_output_recall_11: 1.0000 - loss: 0.1343 - tr_output_accuracy: 1.0000 - tr_output_loss: 0.0031 - tr_output_precision_10: 1.0000 - tr_output_recall_10: 1.0000 - val_ag_output_accuracy: 1.0000 - val_ag_output_loss: 2.4079e-04 - val_ag_output_precision_11: 1.0000 - val_ag_output_recall_11: 1.0000 - val_loss: 0.0820 - val_tr_output_accuracy: 1.0000 - val_tr_output_loss: 2.0705e-04 - val_tr_output_precision_10: 1.0000 - val_tr_output_recall_10: 1.0000\n",
            "Epoch 5/10\n",
            "\u001b[1m39/39\u001b[0m \u001b[32m━━━━━━━━━━━━━━━━━━━━\u001b[0m\u001b[37m\u001b[0m \u001b[1m1s\u001b[0m 21ms/step - ag_output_accuracy: 1.0000 - ag_output_loss: 0.0033 - ag_output_precision_11: 1.0000 - ag_output_recall_11: 1.0000 - loss: 0.0771 - tr_output_accuracy: 1.0000 - tr_output_loss: 0.0021 - tr_output_precision_10: 1.0000 - tr_output_recall_10: 1.0000 - val_ag_output_accuracy: 1.0000 - val_ag_output_loss: 2.7908e-04 - val_ag_output_precision_11: 1.0000 - val_ag_output_recall_11: 1.0000 - val_loss: 0.0485 - val_tr_output_accuracy: 1.0000 - val_tr_output_loss: 1.5652e-04 - val_tr_output_precision_10: 1.0000 - val_tr_output_recall_10: 1.0000\n",
            "Epoch 6/10\n",
            "\u001b[1m39/39\u001b[0m \u001b[32m━━━━━━━━━━━━━━━━━━━━\u001b[0m\u001b[37m\u001b[0m \u001b[1m1s\u001b[0m 19ms/step - ag_output_accuracy: 1.0000 - ag_output_loss: 0.0023 - ag_output_precision_11: 1.0000 - ag_output_recall_11: 1.0000 - loss: 0.0479 - tr_output_accuracy: 1.0000 - tr_output_loss: 0.0024 - tr_output_precision_10: 1.0000 - tr_output_recall_10: 1.0000 - val_ag_output_accuracy: 1.0000 - val_ag_output_loss: 1.9531e-04 - val_ag_output_precision_11: 1.0000 - val_ag_output_recall_11: 1.0000 - val_loss: 0.0313 - val_tr_output_accuracy: 1.0000 - val_tr_output_loss: 1.1574e-04 - val_tr_output_precision_10: 1.0000 - val_tr_output_recall_10: 1.0000\n",
            "Epoch 7/10\n",
            "\u001b[1m39/39\u001b[0m \u001b[32m━━━━━━━━━━━━━━━━━━━━\u001b[0m\u001b[37m\u001b[0m \u001b[1m1s\u001b[0m 19ms/step - ag_output_accuracy: 1.0000 - ag_output_loss: 0.0022 - ag_output_precision_11: 1.0000 - ag_output_recall_11: 1.0000 - loss: 0.0318 - tr_output_accuracy: 1.0000 - tr_output_loss: 0.0017 - tr_output_precision_10: 1.0000 - tr_output_recall_10: 1.0000 - val_ag_output_accuracy: 1.0000 - val_ag_output_loss: 2.2117e-04 - val_ag_output_precision_11: 1.0000 - val_ag_output_recall_11: 1.0000 - val_loss: 0.0210 - val_tr_output_accuracy: 1.0000 - val_tr_output_loss: 1.3999e-04 - val_tr_output_precision_10: 1.0000 - val_tr_output_recall_10: 1.0000\n",
            "Epoch 8/10\n",
            "\u001b[1m39/39\u001b[0m \u001b[32m━━━━━━━━━━━━━━━━━━━━\u001b[0m\u001b[37m\u001b[0m \u001b[1m1s\u001b[0m 19ms/step - ag_output_accuracy: 1.0000 - ag_output_loss: 0.0017 - ag_output_precision_11: 1.0000 - ag_output_recall_11: 1.0000 - loss: 0.0222 - tr_output_accuracy: 1.0000 - tr_output_loss: 0.0015 - tr_output_precision_10: 1.0000 - tr_output_recall_10: 1.0000 - val_ag_output_accuracy: 1.0000 - val_ag_output_loss: 1.8109e-04 - val_ag_output_precision_11: 1.0000 - val_ag_output_recall_11: 1.0000 - val_loss: 0.0153 - val_tr_output_accuracy: 1.0000 - val_tr_output_loss: 1.1464e-04 - val_tr_output_precision_10: 1.0000 - val_tr_output_recall_10: 1.0000\n",
            "Epoch 9/10\n",
            "\u001b[1m39/39\u001b[0m \u001b[32m━━━━━━━━━━━━━━━━━━━━\u001b[0m\u001b[37m\u001b[0m \u001b[1m1s\u001b[0m 22ms/step - ag_output_accuracy: 1.0000 - ag_output_loss: 0.0016 - ag_output_precision_11: 1.0000 - ag_output_recall_11: 1.0000 - loss: 0.0170 - tr_output_accuracy: 1.0000 - tr_output_loss: 0.0013 - tr_output_precision_10: 1.0000 - tr_output_recall_10: 1.0000 - val_ag_output_accuracy: 1.0000 - val_ag_output_loss: 1.6420e-04 - val_ag_output_precision_11: 1.0000 - val_ag_output_recall_11: 1.0000 - val_loss: 0.0115 - val_tr_output_accuracy: 1.0000 - val_tr_output_loss: 1.1027e-04 - val_tr_output_precision_10: 1.0000 - val_tr_output_recall_10: 1.0000\n",
            "Epoch 10/10\n",
            "\u001b[1m39/39\u001b[0m \u001b[32m━━━━━━━━━━━━━━━━━━━━\u001b[0m\u001b[37m\u001b[0m \u001b[1m1s\u001b[0m 26ms/step - ag_output_accuracy: 1.0000 - ag_output_loss: 0.0013 - ag_output_precision_11: 1.0000 - ag_output_recall_11: 1.0000 - loss: 0.0127 - tr_output_accuracy: 1.0000 - tr_output_loss: 0.0010 - tr_output_precision_10: 1.0000 - tr_output_recall_10: 1.0000 - val_ag_output_accuracy: 1.0000 - val_ag_output_loss: 1.5257e-04 - val_ag_output_precision_11: 1.0000 - val_ag_output_recall_11: 1.0000 - val_loss: 0.0091 - val_tr_output_accuracy: 1.0000 - val_tr_output_loss: 8.5856e-05 - val_tr_output_precision_10: 1.0000 - val_tr_output_recall_10: 1.0000\n"
          ]
        }
      ]
    },
    {
      "cell_type": "code",
      "source": [
        "# Evaluate on test set\n",
        "test_results = model_task_b.evaluate(\n",
        "    X_test_b,\n",
        "    {'tr_output': y_test_tr_b, 'ag_output': y_test_ag_b},\n",
        "    verbose=1\n",
        ")\n",
        "\n",
        "# Print evaluation metrics\n",
        "print(\"\\nTest Loss:\", test_results[0])\n",
        "print(\"Target Classification (TR) - Test Accuracy:\", test_results[3])\n",
        "print(\"Aggressiveness (AG) - Test Accuracy:\", test_results[7])"
      ],
      "metadata": {
        "colab": {
          "base_uri": "https://localhost:8080/"
        },
        "id": "GWJpqfgOuRd9",
        "outputId": "0792264e-be25-4686-d524-0a8f9d255271"
      },
      "execution_count": null,
      "outputs": [
        {
          "output_type": "stream",
          "name": "stdout",
          "text": [
            "\u001b[1m24/24\u001b[0m \u001b[32m━━━━━━━━━━━━━━━━━━━━\u001b[0m\u001b[37m\u001b[0m \u001b[1m1s\u001b[0m 23ms/step - ag_output_accuracy: 1.0000 - ag_output_loss: 1.5257e-04 - ag_output_precision_11: 1.0000 - ag_output_recall_11: 1.0000 - loss: 0.0091 - tr_output_accuracy: 1.0000 - tr_output_loss: 8.5855e-05 - tr_output_precision_10: 1.0000 - tr_output_recall_10: 1.0000\n",
            "\n",
            "Test Loss: 0.00914714951068163\n",
            "Target Classification (TR) - Test Accuracy: 1.0\n",
            "Aggressiveness (AG) - Test Accuracy: 1.0\n"
          ]
        }
      ]
    },
    {
      "cell_type": "code",
      "source": [
        "# Generate predictions\n",
        "y_pred_tr, y_pred_ag = model_task_b.predict(X_test_b)\n",
        "y_pred_tr = (y_pred_tr > 0.5).astype(\"int32\")\n",
        "y_pred_ag = (y_pred_ag > 0.5).astype(\"int32\")\n",
        "\n",
        "# Classification reports\n",
        "print(\"\\nTask B - Target Classification (TR) Results:\")\n",
        "print(classification_report(y_test_tr_b, y_pred_tr))\n",
        "\n",
        "print(\"\\nTask B - Aggressiveness (AG) Classification Results:\")\n",
        "print(classification_report(y_test_ag_b, y_pred_ag))"
      ],
      "metadata": {
        "colab": {
          "base_uri": "https://localhost:8080/"
        },
        "id": "cfEAZ6_GuplO",
        "outputId": "48f0bea7-efcc-4007-8010-143da63b9ae3"
      },
      "execution_count": null,
      "outputs": [
        {
          "output_type": "stream",
          "name": "stdout",
          "text": [
            "\u001b[1m24/24\u001b[0m \u001b[32m━━━━━━━━━━━━━━━━━━━━\u001b[0m\u001b[37m\u001b[0m \u001b[1m1s\u001b[0m 27ms/step\n",
            "\n",
            "Task B - Target Classification (TR) Results:\n",
            "              precision    recall  f1-score   support\n",
            "\n",
            "         1.0       1.00      1.00      1.00       740\n",
            "\n",
            "    accuracy                           1.00       740\n",
            "   macro avg       1.00      1.00      1.00       740\n",
            "weighted avg       1.00      1.00      1.00       740\n",
            "\n",
            "\n",
            "Task B - Aggressiveness (AG) Classification Results:\n",
            "              precision    recall  f1-score   support\n",
            "\n",
            "         1.0       1.00      1.00      1.00       740\n",
            "\n",
            "    accuracy                           1.00       740\n",
            "   macro avg       1.00      1.00      1.00       740\n",
            "weighted avg       1.00      1.00      1.00       740\n",
            "\n"
          ]
        }
      ]
    },
    {
      "cell_type": "code",
      "source": [
        "# Confusion matrices\n",
        "plt.figure(figsize=(12, 5))\n",
        "\n",
        "plt.subplot(1, 2, 1)\n",
        "sns.heatmap(confusion_matrix(y_test_tr_b, y_pred_tr),\n",
        "            annot=True, fmt='d', cmap='Blues')\n",
        "plt.title('Target Classification (TR)')\n",
        "plt.xlabel('Predicted')\n",
        "plt.ylabel('Actual')\n",
        "\n",
        "plt.subplot(1, 2, 2)\n",
        "sns.heatmap(confusion_matrix(y_test_ag_b, y_pred_ag),\n",
        "            annot=True, fmt='d', cmap='Blues')\n",
        "plt.title('Aggressiveness (AG)')\n",
        "plt.xlabel('Predicted')\n",
        "plt.ylabel('Actual')\n",
        "\n",
        "plt.tight_layout()\n",
        "plt.show()"
      ],
      "metadata": {
        "colab": {
          "base_uri": "https://localhost:8080/",
          "height": 598
        },
        "id": "m2yedlZ6urk3",
        "outputId": "d6aa6b3f-5a8e-42b6-fd6c-0640de6af657"
      },
      "execution_count": null,
      "outputs": [
        {
          "output_type": "stream",
          "name": "stderr",
          "text": [
            "/usr/local/lib/python3.11/dist-packages/sklearn/metrics/_classification.py:407: UserWarning: A single label was found in 'y_true' and 'y_pred'. For the confusion matrix to have the correct shape, use the 'labels' parameter to pass all known labels.\n",
            "  warnings.warn(\n",
            "/usr/local/lib/python3.11/dist-packages/sklearn/metrics/_classification.py:407: UserWarning: A single label was found in 'y_true' and 'y_pred'. For the confusion matrix to have the correct shape, use the 'labels' parameter to pass all known labels.\n",
            "  warnings.warn(\n"
          ]
        },
        {
          "output_type": "display_data",
          "data": {
            "text/plain": [
              "<Figure size 1200x500 with 4 Axes>"
            ],
            "image/png": "[encoded data removed]"
          },
          "metadata": {}
        }
      ]
    },
    {
      "cell_type": "code",
      "source": [
        "# Plot training history\n",
        "plt.figure(figsize=(15, 5))\n",
        "\n",
        "# Target Classification (TR) metrics\n",
        "plt.subplot(1, 2, 1)\n",
        "plt.plot(history_b.history['tr_output_accuracy'], label='Train Acc (TR)')\n",
        "plt.plot(history_b.history['val_tr_output_accuracy'], label='Val Acc (TR)')\n",
        "plt.plot(history_b.history['tr_output_loss'], label='Train Loss (TR)')\n",
        "plt.plot(history_b.history['val_tr_output_loss'], label='Val Loss (TR)')\n",
        "plt.title('Target Classification Metrics')\n",
        "plt.ylabel('Value')\n",
        "plt.xlabel('Epoch')\n",
        "plt.legend()\n",
        "\n",
        "# Aggressiveness (AG) metrics\n",
        "plt.subplot(1, 2, 2)\n",
        "plt.plot(history_b.history['ag_output_accuracy'], label='Train Acc (AG)')\n",
        "plt.plot(history_b.history['val_ag_output_accuracy'], label='Val Acc (AG)')\n",
        "plt.plot(history_b.history['ag_output_loss'], label='Train Loss (AG)')\n",
        "plt.plot(history_b.history['val_ag_output_loss'], label='Val Loss (AG)')\n",
        "plt.title('Aggressiveness Metrics')\n",
        "plt.ylabel('Value')\n",
        "plt.xlabel('Epoch')\n",
        "plt.legend()\n",
        "\n",
        "plt.tight_layout()\n",
        "plt.show()"
      ],
      "metadata": {
        "colab": {
          "base_uri": "https://localhost:8080/",
          "height": 401
        },
        "id": "ksi11yw2qvyP",
        "outputId": "4b3101a6-86ba-4be3-b792-761ea897a815"
      },
      "execution_count": null,
      "outputs": [
        {
          "output_type": "display_data",
          "data": {
            "text/plain": [
              "<Figure size 1500x500 with 2 Axes>"
            ],
            "image/png": "[encoded data removed]"
          },
          "metadata": {}
        }
      ]
    },
    {
      "cell_type": "code",
      "source": [
        "# Save the trained model\n",
        "model_task_b.save('hate_speech_task_b_model.h5')\n",
        "\n",
        "# Save tokenizer (if not already saved)\n",
        "import pickle\n",
        "with open('tokenizer.pickle', 'wb') as handle:\n",
        "    pickle.dump(tokenizer, handle, protocol=pickle.HIGHEST_PROTOCOL)"
      ],
      "metadata": {
        "colab": {
          "base_uri": "https://localhost:8080/"
        },
        "id": "3IiR-yVSu_PG",
        "outputId": "e9b9d2f9-92f5-4e84-80f9-1662932bcb9f"
      },
      "execution_count": null,
      "outputs": [
        {
          "output_type": "stream",
          "name": "stderr",
          "text": [
            "WARNING:absl:You are saving your model as an HDF5 file via `model.save()` or `keras.saving.save_model(model)`. This file format is considered legacy. We recommend using instead the native Keras format, e.g. `model.save('my_model.keras')` or `keras.saving.save_model(model, 'my_model.keras')`. \n"
          ]
        }
      ]
    },
    {
      "cell_type": "code",
      "source": [],
      "metadata": {
        "id": "M5dTMcr9wti7"
      },
      "execution_count": null,
      "outputs": []
    }
  ]
}